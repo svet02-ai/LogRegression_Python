{
  "nbformat": 4,
  "nbformat_minor": 0,
  "metadata": {
    "colab": {
      "provenance": [],
      "mount_file_id": "1djWX-PxDUE6xR532_oaSy1GUzBtmRuvB",
      "authorship_tag": "ABX9TyOIyCNx15nJVC2LTX/DA/6I",
      "include_colab_link": true
    },
    "kernelspec": {
      "name": "python3",
      "display_name": "Python 3"
    },
    "language_info": {
      "name": "python"
    }
  },
  "cells": [
    {
      "cell_type": "markdown",
      "metadata": {
        "id": "view-in-github",
        "colab_type": "text"
      },
      "source": [
        "<a href=\"https://colab.research.google.com/github/svet02-ai/LogRegression_Python/blob/main/LogeReg_CreditApproval.ipynb\" target=\"_parent\"><img src=\"https://colab.research.google.com/assets/colab-badge.svg\" alt=\"Open In Colab\"/></a>"
      ]
    },
    {
      "cell_type": "code",
      "execution_count": null,
      "metadata": {
        "id": "HZ-7-_eXQez7"
      },
      "outputs": [],
      "source": [
        "import pandas as pd\n",
        "import numpy as np\n",
        "from sklearn import preprocessing\n",
        "import matplotlib.pyplot as plt\n",
        "plt.rc(\"font\", size=14)\n",
        "from sklearn import metrics\n",
        "from sklearn.linear_model import LogisticRegression\n",
        "from sklearn.model_selection import train_test_split\n",
        "from sklearn.preprocessing import StandardScaler\n",
        "from sklearn.metrics import f1_score, classification_report, confusion_matrix, roc_auc_score, precision_score, recall_score\n",
        "from sklearn.model_selection import StratifiedKFold, GridSearchCV\n",
        "import seaborn as sns\n",
        "sns.set(style=\"white\")\n",
        "sns.set(style=\"whitegrid\", color_codes=True)\n",
        "from scipy import stats"
      ]
    },
    {
      "cell_type": "code",
      "source": [
        "from google.colab import drive\n",
        "drive.mount('/content/drive')"
      ],
      "metadata": {
        "id": "pQyuEB6cW3uj",
        "colab": {
          "base_uri": "https://localhost:8080/"
        },
        "outputId": "e1c93ca6-d392-4079-e4cc-4159a7f18201"
      },
      "execution_count": null,
      "outputs": [
        {
          "output_type": "stream",
          "name": "stdout",
          "text": [
            "Drive already mounted at /content/drive; to attempt to forcibly remount, call drive.mount(\"/content/drive\", force_remount=True).\n"
          ]
        }
      ]
    },
    {
      "cell_type": "code",
      "source": [
        "data = pd.read_csv('/content/drive/MyDrive/dataset/data.csv')\n",
        "data.head()"
      ],
      "metadata": {
        "colab": {
          "base_uri": "https://localhost:8080/",
          "height": 206
        },
        "id": "MVX8kzdwYMbl",
        "outputId": "c9303c68-5762-4c67-a53c-80b9b302990c"
      },
      "execution_count": null,
      "outputs": [
        {
          "output_type": "execute_result",
          "data": {
            "text/plain": [
              "   cliente  oficina  ingresos viviendatipo  viviendavalor estadocivil  \\\n",
              "0  1000181       10   11099.0       propia       700000.0     soltero   \n",
              "1  1000276       10   31000.0     familiar       250000.0      casado   \n",
              "2  1000329       10   46000.0     familiar       200000.0      casado   \n",
              "3  1000885       10    4862.0       propia       350000.0      casado   \n",
              "4  1000903       10   22000.0     familiar        55000.0      casado   \n",
              "\n",
              "   lineasdevale  montosdelineas  dependientes  fechanacimiento  default  \n",
              "0             1         42000.0             2         20151007        1  \n",
              "1             1         55000.0             1         19701019        0  \n",
              "2             0             0.0             2         19730920        0  \n",
              "3             0             0.0             2         19800914        1  \n",
              "4             2         91476.0             3         19761010        1  "
            ],
            "text/html": [
              "\n",
              "  <div id=\"df-1c104b1a-384f-48a2-b7f4-dab4fac913c8\" class=\"colab-df-container\">\n",
              "    <div>\n",
              "<style scoped>\n",
              "    .dataframe tbody tr th:only-of-type {\n",
              "        vertical-align: middle;\n",
              "    }\n",
              "\n",
              "    .dataframe tbody tr th {\n",
              "        vertical-align: top;\n",
              "    }\n",
              "\n",
              "    .dataframe thead th {\n",
              "        text-align: right;\n",
              "    }\n",
              "</style>\n",
              "<table border=\"1\" class=\"dataframe\">\n",
              "  <thead>\n",
              "    <tr style=\"text-align: right;\">\n",
              "      <th></th>\n",
              "      <th>cliente</th>\n",
              "      <th>oficina</th>\n",
              "      <th>ingresos</th>\n",
              "      <th>viviendatipo</th>\n",
              "      <th>viviendavalor</th>\n",
              "      <th>estadocivil</th>\n",
              "      <th>lineasdevale</th>\n",
              "      <th>montosdelineas</th>\n",
              "      <th>dependientes</th>\n",
              "      <th>fechanacimiento</th>\n",
              "      <th>default</th>\n",
              "    </tr>\n",
              "  </thead>\n",
              "  <tbody>\n",
              "    <tr>\n",
              "      <th>0</th>\n",
              "      <td>1000181</td>\n",
              "      <td>10</td>\n",
              "      <td>11099.0</td>\n",
              "      <td>propia</td>\n",
              "      <td>700000.0</td>\n",
              "      <td>soltero</td>\n",
              "      <td>1</td>\n",
              "      <td>42000.0</td>\n",
              "      <td>2</td>\n",
              "      <td>20151007</td>\n",
              "      <td>1</td>\n",
              "    </tr>\n",
              "    <tr>\n",
              "      <th>1</th>\n",
              "      <td>1000276</td>\n",
              "      <td>10</td>\n",
              "      <td>31000.0</td>\n",
              "      <td>familiar</td>\n",
              "      <td>250000.0</td>\n",
              "      <td>casado</td>\n",
              "      <td>1</td>\n",
              "      <td>55000.0</td>\n",
              "      <td>1</td>\n",
              "      <td>19701019</td>\n",
              "      <td>0</td>\n",
              "    </tr>\n",
              "    <tr>\n",
              "      <th>2</th>\n",
              "      <td>1000329</td>\n",
              "      <td>10</td>\n",
              "      <td>46000.0</td>\n",
              "      <td>familiar</td>\n",
              "      <td>200000.0</td>\n",
              "      <td>casado</td>\n",
              "      <td>0</td>\n",
              "      <td>0.0</td>\n",
              "      <td>2</td>\n",
              "      <td>19730920</td>\n",
              "      <td>0</td>\n",
              "    </tr>\n",
              "    <tr>\n",
              "      <th>3</th>\n",
              "      <td>1000885</td>\n",
              "      <td>10</td>\n",
              "      <td>4862.0</td>\n",
              "      <td>propia</td>\n",
              "      <td>350000.0</td>\n",
              "      <td>casado</td>\n",
              "      <td>0</td>\n",
              "      <td>0.0</td>\n",
              "      <td>2</td>\n",
              "      <td>19800914</td>\n",
              "      <td>1</td>\n",
              "    </tr>\n",
              "    <tr>\n",
              "      <th>4</th>\n",
              "      <td>1000903</td>\n",
              "      <td>10</td>\n",
              "      <td>22000.0</td>\n",
              "      <td>familiar</td>\n",
              "      <td>55000.0</td>\n",
              "      <td>casado</td>\n",
              "      <td>2</td>\n",
              "      <td>91476.0</td>\n",
              "      <td>3</td>\n",
              "      <td>19761010</td>\n",
              "      <td>1</td>\n",
              "    </tr>\n",
              "  </tbody>\n",
              "</table>\n",
              "</div>\n",
              "    <div class=\"colab-df-buttons\">\n",
              "\n",
              "  <div class=\"colab-df-container\">\n",
              "    <button class=\"colab-df-convert\" onclick=\"convertToInteractive('df-1c104b1a-384f-48a2-b7f4-dab4fac913c8')\"\n",
              "            title=\"Convert this dataframe to an interactive table.\"\n",
              "            style=\"display:none;\">\n",
              "\n",
              "  <svg xmlns=\"http://www.w3.org/2000/svg\" height=\"24px\" viewBox=\"0 -960 960 960\">\n",
              "    <path d=\"M120-120v-720h720v720H120Zm60-500h600v-160H180v160Zm220 220h160v-160H400v160Zm0 220h160v-160H400v160ZM180-400h160v-160H180v160Zm440 0h160v-160H620v160ZM180-180h160v-160H180v160Zm440 0h160v-160H620v160Z\"/>\n",
              "  </svg>\n",
              "    </button>\n",
              "\n",
              "  <style>\n",
              "    .colab-df-container {\n",
              "      display:flex;\n",
              "      gap: 12px;\n",
              "    }\n",
              "\n",
              "    .colab-df-convert {\n",
              "      background-color: #E8F0FE;\n",
              "      border: none;\n",
              "      border-radius: 50%;\n",
              "      cursor: pointer;\n",
              "      display: none;\n",
              "      fill: #1967D2;\n",
              "      height: 32px;\n",
              "      padding: 0 0 0 0;\n",
              "      width: 32px;\n",
              "    }\n",
              "\n",
              "    .colab-df-convert:hover {\n",
              "      background-color: #E2EBFA;\n",
              "      box-shadow: 0px 1px 2px rgba(60, 64, 67, 0.3), 0px 1px 3px 1px rgba(60, 64, 67, 0.15);\n",
              "      fill: #174EA6;\n",
              "    }\n",
              "\n",
              "    .colab-df-buttons div {\n",
              "      margin-bottom: 4px;\n",
              "    }\n",
              "\n",
              "    [theme=dark] .colab-df-convert {\n",
              "      background-color: #3B4455;\n",
              "      fill: #D2E3FC;\n",
              "    }\n",
              "\n",
              "    [theme=dark] .colab-df-convert:hover {\n",
              "      background-color: #434B5C;\n",
              "      box-shadow: 0px 1px 3px 1px rgba(0, 0, 0, 0.15);\n",
              "      filter: drop-shadow(0px 1px 2px rgba(0, 0, 0, 0.3));\n",
              "      fill: #FFFFFF;\n",
              "    }\n",
              "  </style>\n",
              "\n",
              "    <script>\n",
              "      const buttonEl =\n",
              "        document.querySelector('#df-1c104b1a-384f-48a2-b7f4-dab4fac913c8 button.colab-df-convert');\n",
              "      buttonEl.style.display =\n",
              "        google.colab.kernel.accessAllowed ? 'block' : 'none';\n",
              "\n",
              "      async function convertToInteractive(key) {\n",
              "        const element = document.querySelector('#df-1c104b1a-384f-48a2-b7f4-dab4fac913c8');\n",
              "        const dataTable =\n",
              "          await google.colab.kernel.invokeFunction('convertToInteractive',\n",
              "                                                    [key], {});\n",
              "        if (!dataTable) return;\n",
              "\n",
              "        const docLinkHtml = 'Like what you see? Visit the ' +\n",
              "          '<a target=\"_blank\" href=https://colab.research.google.com/notebooks/data_table.ipynb>data table notebook</a>'\n",
              "          + ' to learn more about interactive tables.';\n",
              "        element.innerHTML = '';\n",
              "        dataTable['output_type'] = 'display_data';\n",
              "        await google.colab.output.renderOutput(dataTable, element);\n",
              "        const docLink = document.createElement('div');\n",
              "        docLink.innerHTML = docLinkHtml;\n",
              "        element.appendChild(docLink);\n",
              "      }\n",
              "    </script>\n",
              "  </div>\n",
              "\n",
              "\n",
              "<div id=\"df-7d239a24-877a-4602-b198-4507ff2ba8a3\">\n",
              "  <button class=\"colab-df-quickchart\" onclick=\"quickchart('df-7d239a24-877a-4602-b198-4507ff2ba8a3')\"\n",
              "            title=\"Suggest charts\"\n",
              "            style=\"display:none;\">\n",
              "\n",
              "<svg xmlns=\"http://www.w3.org/2000/svg\" height=\"24px\"viewBox=\"0 0 24 24\"\n",
              "     width=\"24px\">\n",
              "    <g>\n",
              "        <path d=\"M19 3H5c-1.1 0-2 .9-2 2v14c0 1.1.9 2 2 2h14c1.1 0 2-.9 2-2V5c0-1.1-.9-2-2-2zM9 17H7v-7h2v7zm4 0h-2V7h2v10zm4 0h-2v-4h2v4z\"/>\n",
              "    </g>\n",
              "</svg>\n",
              "  </button>\n",
              "\n",
              "<style>\n",
              "  .colab-df-quickchart {\n",
              "      --bg-color: #E8F0FE;\n",
              "      --fill-color: #1967D2;\n",
              "      --hover-bg-color: #E2EBFA;\n",
              "      --hover-fill-color: #174EA6;\n",
              "      --disabled-fill-color: #AAA;\n",
              "      --disabled-bg-color: #DDD;\n",
              "  }\n",
              "\n",
              "  [theme=dark] .colab-df-quickchart {\n",
              "      --bg-color: #3B4455;\n",
              "      --fill-color: #D2E3FC;\n",
              "      --hover-bg-color: #434B5C;\n",
              "      --hover-fill-color: #FFFFFF;\n",
              "      --disabled-bg-color: #3B4455;\n",
              "      --disabled-fill-color: #666;\n",
              "  }\n",
              "\n",
              "  .colab-df-quickchart {\n",
              "    background-color: var(--bg-color);\n",
              "    border: none;\n",
              "    border-radius: 50%;\n",
              "    cursor: pointer;\n",
              "    display: none;\n",
              "    fill: var(--fill-color);\n",
              "    height: 32px;\n",
              "    padding: 0;\n",
              "    width: 32px;\n",
              "  }\n",
              "\n",
              "  .colab-df-quickchart:hover {\n",
              "    background-color: var(--hover-bg-color);\n",
              "    box-shadow: 0 1px 2px rgba(60, 64, 67, 0.3), 0 1px 3px 1px rgba(60, 64, 67, 0.15);\n",
              "    fill: var(--button-hover-fill-color);\n",
              "  }\n",
              "\n",
              "  .colab-df-quickchart-complete:disabled,\n",
              "  .colab-df-quickchart-complete:disabled:hover {\n",
              "    background-color: var(--disabled-bg-color);\n",
              "    fill: var(--disabled-fill-color);\n",
              "    box-shadow: none;\n",
              "  }\n",
              "\n",
              "  .colab-df-spinner {\n",
              "    border: 2px solid var(--fill-color);\n",
              "    border-color: transparent;\n",
              "    border-bottom-color: var(--fill-color);\n",
              "    animation:\n",
              "      spin 1s steps(1) infinite;\n",
              "  }\n",
              "\n",
              "  @keyframes spin {\n",
              "    0% {\n",
              "      border-color: transparent;\n",
              "      border-bottom-color: var(--fill-color);\n",
              "      border-left-color: var(--fill-color);\n",
              "    }\n",
              "    20% {\n",
              "      border-color: transparent;\n",
              "      border-left-color: var(--fill-color);\n",
              "      border-top-color: var(--fill-color);\n",
              "    }\n",
              "    30% {\n",
              "      border-color: transparent;\n",
              "      border-left-color: var(--fill-color);\n",
              "      border-top-color: var(--fill-color);\n",
              "      border-right-color: var(--fill-color);\n",
              "    }\n",
              "    40% {\n",
              "      border-color: transparent;\n",
              "      border-right-color: var(--fill-color);\n",
              "      border-top-color: var(--fill-color);\n",
              "    }\n",
              "    60% {\n",
              "      border-color: transparent;\n",
              "      border-right-color: var(--fill-color);\n",
              "    }\n",
              "    80% {\n",
              "      border-color: transparent;\n",
              "      border-right-color: var(--fill-color);\n",
              "      border-bottom-color: var(--fill-color);\n",
              "    }\n",
              "    90% {\n",
              "      border-color: transparent;\n",
              "      border-bottom-color: var(--fill-color);\n",
              "    }\n",
              "  }\n",
              "</style>\n",
              "\n",
              "  <script>\n",
              "    async function quickchart(key) {\n",
              "      const quickchartButtonEl =\n",
              "        document.querySelector('#' + key + ' button');\n",
              "      quickchartButtonEl.disabled = true;  // To prevent multiple clicks.\n",
              "      quickchartButtonEl.classList.add('colab-df-spinner');\n",
              "      try {\n",
              "        const charts = await google.colab.kernel.invokeFunction(\n",
              "            'suggestCharts', [key], {});\n",
              "      } catch (error) {\n",
              "        console.error('Error during call to suggestCharts:', error);\n",
              "      }\n",
              "      quickchartButtonEl.classList.remove('colab-df-spinner');\n",
              "      quickchartButtonEl.classList.add('colab-df-quickchart-complete');\n",
              "    }\n",
              "    (() => {\n",
              "      let quickchartButtonEl =\n",
              "        document.querySelector('#df-7d239a24-877a-4602-b198-4507ff2ba8a3 button');\n",
              "      quickchartButtonEl.style.display =\n",
              "        google.colab.kernel.accessAllowed ? 'block' : 'none';\n",
              "    })();\n",
              "  </script>\n",
              "</div>\n",
              "\n",
              "    </div>\n",
              "  </div>\n"
            ],
            "application/vnd.google.colaboratory.intrinsic+json": {
              "type": "dataframe",
              "variable_name": "data",
              "summary": "{\n  \"name\": \"data\",\n  \"rows\": 8144,\n  \"fields\": [\n    {\n      \"column\": \"cliente\",\n      \"properties\": {\n        \"dtype\": \"number\",\n        \"std\": 1280026,\n        \"min\": 200140,\n        \"max\": 5300031,\n        \"num_unique_values\": 8144,\n        \"samples\": [\n          723014,\n          1304772,\n          726876\n        ],\n        \"semantic_type\": \"\",\n        \"description\": \"\"\n      }\n    },\n    {\n      \"column\": \"oficina\",\n      \"properties\": {\n        \"dtype\": \"number\",\n        \"std\": 13,\n        \"min\": 2,\n        \"max\": 59,\n        \"num_unique_values\": 44,\n        \"samples\": [\n          38,\n          40,\n          27\n        ],\n        \"semantic_type\": \"\",\n        \"description\": \"\"\n      }\n    },\n    {\n      \"column\": \"ingresos\",\n      \"properties\": {\n        \"dtype\": \"number\",\n        \"std\": 18649.955683778775,\n        \"min\": -100.0,\n        \"max\": 548000.0,\n        \"num_unique_values\": 1633,\n        \"samples\": [\n          71200.0,\n          11934.0,\n          14051.0\n        ],\n        \"semantic_type\": \"\",\n        \"description\": \"\"\n      }\n    },\n    {\n      \"column\": \"viviendatipo\",\n      \"properties\": {\n        \"dtype\": \"category\",\n        \"num_unique_values\": 3,\n        \"samples\": [\n          \"propia\",\n          \"familiar\",\n          \"Familiar\"\n        ],\n        \"semantic_type\": \"\",\n        \"description\": \"\"\n      }\n    },\n    {\n      \"column\": \"viviendavalor\",\n      \"properties\": {\n        \"dtype\": \"number\",\n        \"std\": 1713811.2096510823,\n        \"min\": 0.0,\n        \"max\": 150200000.0,\n        \"num_unique_values\": 395,\n        \"samples\": [\n          214177.0,\n          339659.0,\n          115000.0\n        ],\n        \"semantic_type\": \"\",\n        \"description\": \"\"\n      }\n    },\n    {\n      \"column\": \"estadocivil\",\n      \"properties\": {\n        \"dtype\": \"category\",\n        \"num_unique_values\": 5,\n        \"samples\": [\n          \"casado\",\n          \"uni\\u00f3n libre\",\n          \"union_libre\"\n        ],\n        \"semantic_type\": \"\",\n        \"description\": \"\"\n      }\n    },\n    {\n      \"column\": \"lineasdevale\",\n      \"properties\": {\n        \"dtype\": \"number\",\n        \"std\": 2,\n        \"min\": 0,\n        \"max\": 14,\n        \"num_unique_values\": 15,\n        \"samples\": [\n          10,\n          9,\n          1\n        ],\n        \"semantic_type\": \"\",\n        \"description\": \"\"\n      }\n    },\n    {\n      \"column\": \"montosdelineas\",\n      \"properties\": {\n        \"dtype\": \"number\",\n        \"std\": 1081992.383634276,\n        \"min\": 0.0,\n        \"max\": 92210000.0,\n        \"num_unique_values\": 3473,\n        \"samples\": [\n          623060.0,\n          286181.46,\n          133301.0\n        ],\n        \"semantic_type\": \"\",\n        \"description\": \"\"\n      }\n    },\n    {\n      \"column\": \"dependientes\",\n      \"properties\": {\n        \"dtype\": \"number\",\n        \"std\": 34,\n        \"min\": 0,\n        \"max\": 1000,\n        \"num_unique_values\": 10,\n        \"samples\": [\n          8,\n          1,\n          1000\n        ],\n        \"semantic_type\": \"\",\n        \"description\": \"\"\n      }\n    },\n    {\n      \"column\": \"fechanacimiento\",\n      \"properties\": {\n        \"dtype\": \"number\",\n        \"std\": 100574,\n        \"min\": 19000828,\n        \"max\": 20200129,\n        \"num_unique_values\": 6128,\n        \"samples\": [\n          19690126,\n          19860226,\n          19620312\n        ],\n        \"semantic_type\": \"\",\n        \"description\": \"\"\n      }\n    },\n    {\n      \"column\": \"default\",\n      \"properties\": {\n        \"dtype\": \"number\",\n        \"std\": 0,\n        \"min\": 0,\n        \"max\": 1,\n        \"num_unique_values\": 2,\n        \"samples\": [\n          0,\n          1\n        ],\n        \"semantic_type\": \"\",\n        \"description\": \"\"\n      }\n    }\n  ]\n}"
            }
          },
          "metadata": {},
          "execution_count": 3
        }
      ]
    },
    {
      "cell_type": "code",
      "source": [
        "data.shape"
      ],
      "metadata": {
        "colab": {
          "base_uri": "https://localhost:8080/"
        },
        "id": "S04ibFXdaLP5",
        "outputId": "d579c9f9-debe-4fc3-a7c6-9ae59dda0f6c"
      },
      "execution_count": null,
      "outputs": [
        {
          "output_type": "execute_result",
          "data": {
            "text/plain": [
              "(8144, 11)"
            ]
          },
          "metadata": {},
          "execution_count": 4
        }
      ]
    },
    {
      "cell_type": "code",
      "source": [
        "data.dtypes"
      ],
      "metadata": {
        "colab": {
          "base_uri": "https://localhost:8080/"
        },
        "id": "EHTwHMQBalhC",
        "outputId": "4e389f73-776b-4efc-9d8b-8fb20d7daa19"
      },
      "execution_count": null,
      "outputs": [
        {
          "output_type": "execute_result",
          "data": {
            "text/plain": [
              "cliente              int64\n",
              "oficina              int64\n",
              "ingresos           float64\n",
              "viviendatipo        object\n",
              "viviendavalor      float64\n",
              "estadocivil         object\n",
              "lineasdevale         int64\n",
              "montosdelineas     float64\n",
              "dependientes         int64\n",
              "fechanacimiento      int64\n",
              "default              int64\n",
              "dtype: object"
            ]
          },
          "metadata": {},
          "execution_count": 5
        }
      ]
    },
    {
      "cell_type": "code",
      "source": [
        "data.describe()"
      ],
      "metadata": {
        "colab": {
          "base_uri": "https://localhost:8080/",
          "height": 300
        },
        "id": "4hmGrYFfavzg",
        "outputId": "26c96e01-5d21-4c6a-e989-18a4bf26b406"
      },
      "execution_count": null,
      "outputs": [
        {
          "output_type": "execute_result",
          "data": {
            "text/plain": [
              "            cliente      oficina       ingresos  viviendavalor  lineasdevale  \\\n",
              "count  8.144000e+03  8144.000000    8144.000000   8.144000e+03   8144.000000   \n",
              "mean   1.890547e+06    19.683325   18883.502656   4.496725e+05      2.000491   \n",
              "std    1.280027e+06    13.255165   18649.955684   1.713811e+06      2.011938   \n",
              "min    2.001400e+05     2.000000    -100.000000   0.000000e+00      0.000000   \n",
              "25%    6.217558e+05     6.000000    6000.000000   2.500000e+05      0.000000   \n",
              "50%    2.006964e+06    20.000000   17000.000000   3.000000e+05      2.000000   \n",
              "75%    3.208488e+06    32.000000   26600.000000   5.000000e+05      3.000000   \n",
              "max    5.300031e+06    59.000000  548000.000000   1.502000e+08     14.000000   \n",
              "\n",
              "       montosdelineas  dependientes  fechanacimiento      default  \n",
              "count    8.144000e+03   8144.000000     8.144000e+03  8144.000000  \n",
              "mean     1.632950e+05      2.834971     1.976787e+07     0.252701  \n",
              "std      1.081992e+06     34.987077     1.005748e+05     0.434588  \n",
              "min      0.000000e+00      0.000000     1.900083e+07     0.000000  \n",
              "25%      0.000000e+00      1.000000     1.969093e+07     0.000000  \n",
              "50%      7.709850e+04      2.000000     1.977053e+07     0.000000  \n",
              "75%      1.987739e+05      2.000000     1.985012e+07     1.000000  \n",
              "max      9.221000e+07   1000.000000     2.020013e+07     1.000000  "
            ],
            "text/html": [
              "\n",
              "  <div id=\"df-ce8590fb-aca4-4582-a063-b1e23bf120b7\" class=\"colab-df-container\">\n",
              "    <div>\n",
              "<style scoped>\n",
              "    .dataframe tbody tr th:only-of-type {\n",
              "        vertical-align: middle;\n",
              "    }\n",
              "\n",
              "    .dataframe tbody tr th {\n",
              "        vertical-align: top;\n",
              "    }\n",
              "\n",
              "    .dataframe thead th {\n",
              "        text-align: right;\n",
              "    }\n",
              "</style>\n",
              "<table border=\"1\" class=\"dataframe\">\n",
              "  <thead>\n",
              "    <tr style=\"text-align: right;\">\n",
              "      <th></th>\n",
              "      <th>cliente</th>\n",
              "      <th>oficina</th>\n",
              "      <th>ingresos</th>\n",
              "      <th>viviendavalor</th>\n",
              "      <th>lineasdevale</th>\n",
              "      <th>montosdelineas</th>\n",
              "      <th>dependientes</th>\n",
              "      <th>fechanacimiento</th>\n",
              "      <th>default</th>\n",
              "    </tr>\n",
              "  </thead>\n",
              "  <tbody>\n",
              "    <tr>\n",
              "      <th>count</th>\n",
              "      <td>8.144000e+03</td>\n",
              "      <td>8144.000000</td>\n",
              "      <td>8144.000000</td>\n",
              "      <td>8.144000e+03</td>\n",
              "      <td>8144.000000</td>\n",
              "      <td>8.144000e+03</td>\n",
              "      <td>8144.000000</td>\n",
              "      <td>8.144000e+03</td>\n",
              "      <td>8144.000000</td>\n",
              "    </tr>\n",
              "    <tr>\n",
              "      <th>mean</th>\n",
              "      <td>1.890547e+06</td>\n",
              "      <td>19.683325</td>\n",
              "      <td>18883.502656</td>\n",
              "      <td>4.496725e+05</td>\n",
              "      <td>2.000491</td>\n",
              "      <td>1.632950e+05</td>\n",
              "      <td>2.834971</td>\n",
              "      <td>1.976787e+07</td>\n",
              "      <td>0.252701</td>\n",
              "    </tr>\n",
              "    <tr>\n",
              "      <th>std</th>\n",
              "      <td>1.280027e+06</td>\n",
              "      <td>13.255165</td>\n",
              "      <td>18649.955684</td>\n",
              "      <td>1.713811e+06</td>\n",
              "      <td>2.011938</td>\n",
              "      <td>1.081992e+06</td>\n",
              "      <td>34.987077</td>\n",
              "      <td>1.005748e+05</td>\n",
              "      <td>0.434588</td>\n",
              "    </tr>\n",
              "    <tr>\n",
              "      <th>min</th>\n",
              "      <td>2.001400e+05</td>\n",
              "      <td>2.000000</td>\n",
              "      <td>-100.000000</td>\n",
              "      <td>0.000000e+00</td>\n",
              "      <td>0.000000</td>\n",
              "      <td>0.000000e+00</td>\n",
              "      <td>0.000000</td>\n",
              "      <td>1.900083e+07</td>\n",
              "      <td>0.000000</td>\n",
              "    </tr>\n",
              "    <tr>\n",
              "      <th>25%</th>\n",
              "      <td>6.217558e+05</td>\n",
              "      <td>6.000000</td>\n",
              "      <td>6000.000000</td>\n",
              "      <td>2.500000e+05</td>\n",
              "      <td>0.000000</td>\n",
              "      <td>0.000000e+00</td>\n",
              "      <td>1.000000</td>\n",
              "      <td>1.969093e+07</td>\n",
              "      <td>0.000000</td>\n",
              "    </tr>\n",
              "    <tr>\n",
              "      <th>50%</th>\n",
              "      <td>2.006964e+06</td>\n",
              "      <td>20.000000</td>\n",
              "      <td>17000.000000</td>\n",
              "      <td>3.000000e+05</td>\n",
              "      <td>2.000000</td>\n",
              "      <td>7.709850e+04</td>\n",
              "      <td>2.000000</td>\n",
              "      <td>1.977053e+07</td>\n",
              "      <td>0.000000</td>\n",
              "    </tr>\n",
              "    <tr>\n",
              "      <th>75%</th>\n",
              "      <td>3.208488e+06</td>\n",
              "      <td>32.000000</td>\n",
              "      <td>26600.000000</td>\n",
              "      <td>5.000000e+05</td>\n",
              "      <td>3.000000</td>\n",
              "      <td>1.987739e+05</td>\n",
              "      <td>2.000000</td>\n",
              "      <td>1.985012e+07</td>\n",
              "      <td>1.000000</td>\n",
              "    </tr>\n",
              "    <tr>\n",
              "      <th>max</th>\n",
              "      <td>5.300031e+06</td>\n",
              "      <td>59.000000</td>\n",
              "      <td>548000.000000</td>\n",
              "      <td>1.502000e+08</td>\n",
              "      <td>14.000000</td>\n",
              "      <td>9.221000e+07</td>\n",
              "      <td>1000.000000</td>\n",
              "      <td>2.020013e+07</td>\n",
              "      <td>1.000000</td>\n",
              "    </tr>\n",
              "  </tbody>\n",
              "</table>\n",
              "</div>\n",
              "    <div class=\"colab-df-buttons\">\n",
              "\n",
              "  <div class=\"colab-df-container\">\n",
              "    <button class=\"colab-df-convert\" onclick=\"convertToInteractive('df-ce8590fb-aca4-4582-a063-b1e23bf120b7')\"\n",
              "            title=\"Convert this dataframe to an interactive table.\"\n",
              "            style=\"display:none;\">\n",
              "\n",
              "  <svg xmlns=\"http://www.w3.org/2000/svg\" height=\"24px\" viewBox=\"0 -960 960 960\">\n",
              "    <path d=\"M120-120v-720h720v720H120Zm60-500h600v-160H180v160Zm220 220h160v-160H400v160Zm0 220h160v-160H400v160ZM180-400h160v-160H180v160Zm440 0h160v-160H620v160ZM180-180h160v-160H180v160Zm440 0h160v-160H620v160Z\"/>\n",
              "  </svg>\n",
              "    </button>\n",
              "\n",
              "  <style>\n",
              "    .colab-df-container {\n",
              "      display:flex;\n",
              "      gap: 12px;\n",
              "    }\n",
              "\n",
              "    .colab-df-convert {\n",
              "      background-color: #E8F0FE;\n",
              "      border: none;\n",
              "      border-radius: 50%;\n",
              "      cursor: pointer;\n",
              "      display: none;\n",
              "      fill: #1967D2;\n",
              "      height: 32px;\n",
              "      padding: 0 0 0 0;\n",
              "      width: 32px;\n",
              "    }\n",
              "\n",
              "    .colab-df-convert:hover {\n",
              "      background-color: #E2EBFA;\n",
              "      box-shadow: 0px 1px 2px rgba(60, 64, 67, 0.3), 0px 1px 3px 1px rgba(60, 64, 67, 0.15);\n",
              "      fill: #174EA6;\n",
              "    }\n",
              "\n",
              "    .colab-df-buttons div {\n",
              "      margin-bottom: 4px;\n",
              "    }\n",
              "\n",
              "    [theme=dark] .colab-df-convert {\n",
              "      background-color: #3B4455;\n",
              "      fill: #D2E3FC;\n",
              "    }\n",
              "\n",
              "    [theme=dark] .colab-df-convert:hover {\n",
              "      background-color: #434B5C;\n",
              "      box-shadow: 0px 1px 3px 1px rgba(0, 0, 0, 0.15);\n",
              "      filter: drop-shadow(0px 1px 2px rgba(0, 0, 0, 0.3));\n",
              "      fill: #FFFFFF;\n",
              "    }\n",
              "  </style>\n",
              "\n",
              "    <script>\n",
              "      const buttonEl =\n",
              "        document.querySelector('#df-ce8590fb-aca4-4582-a063-b1e23bf120b7 button.colab-df-convert');\n",
              "      buttonEl.style.display =\n",
              "        google.colab.kernel.accessAllowed ? 'block' : 'none';\n",
              "\n",
              "      async function convertToInteractive(key) {\n",
              "        const element = document.querySelector('#df-ce8590fb-aca4-4582-a063-b1e23bf120b7');\n",
              "        const dataTable =\n",
              "          await google.colab.kernel.invokeFunction('convertToInteractive',\n",
              "                                                    [key], {});\n",
              "        if (!dataTable) return;\n",
              "\n",
              "        const docLinkHtml = 'Like what you see? Visit the ' +\n",
              "          '<a target=\"_blank\" href=https://colab.research.google.com/notebooks/data_table.ipynb>data table notebook</a>'\n",
              "          + ' to learn more about interactive tables.';\n",
              "        element.innerHTML = '';\n",
              "        dataTable['output_type'] = 'display_data';\n",
              "        await google.colab.output.renderOutput(dataTable, element);\n",
              "        const docLink = document.createElement('div');\n",
              "        docLink.innerHTML = docLinkHtml;\n",
              "        element.appendChild(docLink);\n",
              "      }\n",
              "    </script>\n",
              "  </div>\n",
              "\n",
              "\n",
              "<div id=\"df-fd430f3d-7b14-466e-9790-986e93ebf29d\">\n",
              "  <button class=\"colab-df-quickchart\" onclick=\"quickchart('df-fd430f3d-7b14-466e-9790-986e93ebf29d')\"\n",
              "            title=\"Suggest charts\"\n",
              "            style=\"display:none;\">\n",
              "\n",
              "<svg xmlns=\"http://www.w3.org/2000/svg\" height=\"24px\"viewBox=\"0 0 24 24\"\n",
              "     width=\"24px\">\n",
              "    <g>\n",
              "        <path d=\"M19 3H5c-1.1 0-2 .9-2 2v14c0 1.1.9 2 2 2h14c1.1 0 2-.9 2-2V5c0-1.1-.9-2-2-2zM9 17H7v-7h2v7zm4 0h-2V7h2v10zm4 0h-2v-4h2v4z\"/>\n",
              "    </g>\n",
              "</svg>\n",
              "  </button>\n",
              "\n",
              "<style>\n",
              "  .colab-df-quickchart {\n",
              "      --bg-color: #E8F0FE;\n",
              "      --fill-color: #1967D2;\n",
              "      --hover-bg-color: #E2EBFA;\n",
              "      --hover-fill-color: #174EA6;\n",
              "      --disabled-fill-color: #AAA;\n",
              "      --disabled-bg-color: #DDD;\n",
              "  }\n",
              "\n",
              "  [theme=dark] .colab-df-quickchart {\n",
              "      --bg-color: #3B4455;\n",
              "      --fill-color: #D2E3FC;\n",
              "      --hover-bg-color: #434B5C;\n",
              "      --hover-fill-color: #FFFFFF;\n",
              "      --disabled-bg-color: #3B4455;\n",
              "      --disabled-fill-color: #666;\n",
              "  }\n",
              "\n",
              "  .colab-df-quickchart {\n",
              "    background-color: var(--bg-color);\n",
              "    border: none;\n",
              "    border-radius: 50%;\n",
              "    cursor: pointer;\n",
              "    display: none;\n",
              "    fill: var(--fill-color);\n",
              "    height: 32px;\n",
              "    padding: 0;\n",
              "    width: 32px;\n",
              "  }\n",
              "\n",
              "  .colab-df-quickchart:hover {\n",
              "    background-color: var(--hover-bg-color);\n",
              "    box-shadow: 0 1px 2px rgba(60, 64, 67, 0.3), 0 1px 3px 1px rgba(60, 64, 67, 0.15);\n",
              "    fill: var(--button-hover-fill-color);\n",
              "  }\n",
              "\n",
              "  .colab-df-quickchart-complete:disabled,\n",
              "  .colab-df-quickchart-complete:disabled:hover {\n",
              "    background-color: var(--disabled-bg-color);\n",
              "    fill: var(--disabled-fill-color);\n",
              "    box-shadow: none;\n",
              "  }\n",
              "\n",
              "  .colab-df-spinner {\n",
              "    border: 2px solid var(--fill-color);\n",
              "    border-color: transparent;\n",
              "    border-bottom-color: var(--fill-color);\n",
              "    animation:\n",
              "      spin 1s steps(1) infinite;\n",
              "  }\n",
              "\n",
              "  @keyframes spin {\n",
              "    0% {\n",
              "      border-color: transparent;\n",
              "      border-bottom-color: var(--fill-color);\n",
              "      border-left-color: var(--fill-color);\n",
              "    }\n",
              "    20% {\n",
              "      border-color: transparent;\n",
              "      border-left-color: var(--fill-color);\n",
              "      border-top-color: var(--fill-color);\n",
              "    }\n",
              "    30% {\n",
              "      border-color: transparent;\n",
              "      border-left-color: var(--fill-color);\n",
              "      border-top-color: var(--fill-color);\n",
              "      border-right-color: var(--fill-color);\n",
              "    }\n",
              "    40% {\n",
              "      border-color: transparent;\n",
              "      border-right-color: var(--fill-color);\n",
              "      border-top-color: var(--fill-color);\n",
              "    }\n",
              "    60% {\n",
              "      border-color: transparent;\n",
              "      border-right-color: var(--fill-color);\n",
              "    }\n",
              "    80% {\n",
              "      border-color: transparent;\n",
              "      border-right-color: var(--fill-color);\n",
              "      border-bottom-color: var(--fill-color);\n",
              "    }\n",
              "    90% {\n",
              "      border-color: transparent;\n",
              "      border-bottom-color: var(--fill-color);\n",
              "    }\n",
              "  }\n",
              "</style>\n",
              "\n",
              "  <script>\n",
              "    async function quickchart(key) {\n",
              "      const quickchartButtonEl =\n",
              "        document.querySelector('#' + key + ' button');\n",
              "      quickchartButtonEl.disabled = true;  // To prevent multiple clicks.\n",
              "      quickchartButtonEl.classList.add('colab-df-spinner');\n",
              "      try {\n",
              "        const charts = await google.colab.kernel.invokeFunction(\n",
              "            'suggestCharts', [key], {});\n",
              "      } catch (error) {\n",
              "        console.error('Error during call to suggestCharts:', error);\n",
              "      }\n",
              "      quickchartButtonEl.classList.remove('colab-df-spinner');\n",
              "      quickchartButtonEl.classList.add('colab-df-quickchart-complete');\n",
              "    }\n",
              "    (() => {\n",
              "      let quickchartButtonEl =\n",
              "        document.querySelector('#df-fd430f3d-7b14-466e-9790-986e93ebf29d button');\n",
              "      quickchartButtonEl.style.display =\n",
              "        google.colab.kernel.accessAllowed ? 'block' : 'none';\n",
              "    })();\n",
              "  </script>\n",
              "</div>\n",
              "\n",
              "    </div>\n",
              "  </div>\n"
            ],
            "application/vnd.google.colaboratory.intrinsic+json": {
              "type": "dataframe",
              "summary": "{\n  \"name\": \"data\",\n  \"rows\": 8,\n  \"fields\": [\n    {\n      \"column\": \"cliente\",\n      \"properties\": {\n        \"dtype\": \"number\",\n        \"std\": 1761182.0593922525,\n        \"min\": 8144.0,\n        \"max\": 5300031.0,\n        \"num_unique_values\": 8,\n        \"samples\": [\n          1890547.44891945,\n          2006964.0,\n          8144.0\n        ],\n        \"semantic_type\": \"\",\n        \"description\": \"\"\n      }\n    },\n    {\n      \"column\": \"oficina\",\n      \"properties\": {\n        \"dtype\": \"number\",\n        \"std\": 2871.719736196273,\n        \"min\": 2.0,\n        \"max\": 8144.0,\n        \"num_unique_values\": 8,\n        \"samples\": [\n          19.68332514734774,\n          20.0,\n          8144.0\n        ],\n        \"semantic_type\": \"\",\n        \"description\": \"\"\n      }\n    },\n    {\n      \"column\": \"ingresos\",\n      \"properties\": {\n        \"dtype\": \"number\",\n        \"std\": 189132.47318481028,\n        \"min\": -100.0,\n        \"max\": 548000.0,\n        \"num_unique_values\": 8,\n        \"samples\": [\n          18883.502655943026,\n          17000.0,\n          8144.0\n        ],\n        \"semantic_type\": \"\",\n        \"description\": \"\"\n      }\n    },\n    {\n      \"column\": \"viviendavalor\",\n      \"properties\": {\n        \"dtype\": \"number\",\n        \"std\": 52943780.7479537,\n        \"min\": 0.0,\n        \"max\": 150200000.0,\n        \"num_unique_values\": 8,\n        \"samples\": [\n          449672.5052787328,\n          300000.0,\n          8144.0\n        ],\n        \"semantic_type\": \"\",\n        \"description\": \"\"\n      }\n    },\n    {\n      \"column\": \"lineasdevale\",\n      \"properties\": {\n        \"dtype\": \"number\",\n        \"std\": 2878.1800188919033,\n        \"min\": 0.0,\n        \"max\": 8144.0,\n        \"num_unique_values\": 7,\n        \"samples\": [\n          8144.0,\n          2.00049115913556,\n          3.0\n        ],\n        \"semantic_type\": \"\",\n        \"description\": \"\"\n      }\n    },\n    {\n      \"column\": \"montosdelineas\",\n      \"properties\": {\n        \"dtype\": \"number\",\n        \"std\": 32525912.440855473,\n        \"min\": 0.0,\n        \"max\": 92210000.0,\n        \"num_unique_values\": 7,\n        \"samples\": [\n          8144.0,\n          163294.99638752456,\n          198773.875\n        ],\n        \"semantic_type\": \"\",\n        \"description\": \"\"\n      }\n    },\n    {\n      \"column\": \"dependientes\",\n      \"properties\": {\n        \"dtype\": \"number\",\n        \"std\": 2847.963300216978,\n        \"min\": 0.0,\n        \"max\": 8144.0,\n        \"num_unique_values\": 7,\n        \"samples\": [\n          8144.0,\n          2.834970530451866,\n          2.0\n        ],\n        \"semantic_type\": \"\",\n        \"description\": \"\"\n      }\n    },\n    {\n      \"column\": \"fechanacimiento\",\n      \"properties\": {\n        \"dtype\": \"number\",\n        \"std\": 9106443.13755565,\n        \"min\": 8144.0,\n        \"max\": 20200129.0,\n        \"num_unique_values\": 8,\n        \"samples\": [\n          19767866.947077602,\n          19770527.0,\n          8144.0\n        ],\n        \"semantic_type\": \"\",\n        \"description\": \"\"\n      }\n    },\n    {\n      \"column\": \"default\",\n      \"properties\": {\n        \"dtype\": \"number\",\n        \"std\": 2879.203114683307,\n        \"min\": 0.0,\n        \"max\": 8144.0,\n        \"num_unique_values\": 5,\n        \"samples\": [\n          0.25270137524557956,\n          1.0,\n          0.43458782896124387\n        ],\n        \"semantic_type\": \"\",\n        \"description\": \"\"\n      }\n    }\n  ]\n}"
            }
          },
          "metadata": {},
          "execution_count": 6
        }
      ]
    },
    {
      "cell_type": "code",
      "source": [
        "data.hist(column='ingresos', bins=30)"
      ],
      "metadata": {
        "colab": {
          "base_uri": "https://localhost:8080/",
          "height": 474
        },
        "id": "RUUF7m1Xh7G_",
        "outputId": "303722cc-292b-4137-c406-e949589c3026"
      },
      "execution_count": null,
      "outputs": [
        {
          "output_type": "execute_result",
          "data": {
            "text/plain": [
              "array([[<Axes: title={'center': 'ingresos'}>]], dtype=object)"
            ]
          },
          "metadata": {},
          "execution_count": 7
        },
        {
          "output_type": "display_data",
          "data": {
            "text/plain": [
              "<Figure size 640x480 with 1 Axes>"
            ],
            "image/png": "[encoded data removed]"
          },
          "metadata": {}
        }
      ]
    },
    {
      "cell_type": "code",
      "source": [
        "z = np.abs(stats.zscore(data['ingresos']))\n",
        "threshold = 3\n",
        "big_outliers = data[z>threshold]\n",
        "print(big_outliers['ingresos'])"
      ],
      "metadata": {
        "colab": {
          "base_uri": "https://localhost:8080/"
        },
        "id": "eG8GDy7vfdqn",
        "outputId": "a89fd3f5-d3f4-4783-ad92-1db8bcf4721f"
      },
      "execution_count": null,
      "outputs": [
        {
          "output_type": "stream",
          "name": "stdout",
          "text": [
            "127     109698.0\n",
            "160      76156.0\n",
            "169     108000.0\n",
            "233      97280.0\n",
            "264      93920.0\n",
            "          ...   \n",
            "7620     75224.0\n",
            "7659    297000.0\n",
            "7723    170600.0\n",
            "7993    109000.0\n",
            "7997    100000.0\n",
            "Name: ingresos, Length: 77, dtype: float64\n"
          ]
        }
      ]
    },
    {
      "cell_type": "code",
      "source": [
        "data = data.drop(big_outliers.index)"
      ],
      "metadata": {
        "id": "vG0H26rQjcxs"
      },
      "execution_count": null,
      "outputs": []
    },
    {
      "cell_type": "code",
      "source": [
        "count_zeros = (data['ingresos'] <= 0).sum()\n",
        "print(count_zeros)"
      ],
      "metadata": {
        "colab": {
          "base_uri": "https://localhost:8080/"
        },
        "id": "QZLOu8wSOAB6",
        "outputId": "b9d5947f-0244-4428-af2d-8bfd26e405c6"
      },
      "execution_count": null,
      "outputs": [
        {
          "output_type": "stream",
          "name": "stdout",
          "text": [
            "1787\n"
          ]
        }
      ]
    },
    {
      "cell_type": "code",
      "source": [
        "data.isnull().mean()*100"
      ],
      "metadata": {
        "colab": {
          "base_uri": "https://localhost:8080/"
        },
        "id": "50A7xRbhIeLv",
        "outputId": "75f32b77-f0ac-4834-9e14-40801f083979"
      },
      "execution_count": null,
      "outputs": [
        {
          "output_type": "execute_result",
          "data": {
            "text/plain": [
              "cliente            0.000000\n",
              "oficina            0.000000\n",
              "ingresos           0.000000\n",
              "viviendatipo       3.346969\n",
              "viviendavalor      0.000000\n",
              "estadocivil        0.000000\n",
              "lineasdevale       0.000000\n",
              "montosdelineas     0.000000\n",
              "dependientes       0.000000\n",
              "fechanacimiento    0.000000\n",
              "default            0.000000\n",
              "dtype: float64"
            ]
          },
          "metadata": {},
          "execution_count": 11
        }
      ]
    },
    {
      "cell_type": "code",
      "source": [
        "data['viviendatipo'].mode()"
      ],
      "metadata": {
        "colab": {
          "base_uri": "https://localhost:8080/"
        },
        "id": "GGVaJs64Ij9e",
        "outputId": "8e0b3637-a5dc-4c39-8cad-d263269b1120"
      },
      "execution_count": null,
      "outputs": [
        {
          "output_type": "execute_result",
          "data": {
            "text/plain": [
              "0    familiar\n",
              "Name: viviendatipo, dtype: object"
            ]
          },
          "metadata": {},
          "execution_count": 12
        }
      ]
    },
    {
      "cell_type": "code",
      "source": [
        "data['viviendatipo']=data['viviendatipo'].fillna('familiar')"
      ],
      "metadata": {
        "id": "d7PprEo1Iu8o"
      },
      "execution_count": null,
      "outputs": []
    },
    {
      "cell_type": "code",
      "source": [
        "data['default'].value_counts()"
      ],
      "metadata": {
        "colab": {
          "base_uri": "https://localhost:8080/"
        },
        "id": "jx2aIC885ALS",
        "outputId": "aca53f99-3635-47e0-eb7d-92c0828b58f3"
      },
      "execution_count": null,
      "outputs": [
        {
          "output_type": "execute_result",
          "data": {
            "text/plain": [
              "default\n",
              "0    6033\n",
              "1    2034\n",
              "Name: count, dtype: int64"
            ]
          },
          "metadata": {},
          "execution_count": 14
        }
      ]
    },
    {
      "cell_type": "code",
      "source": [
        "sns.countplot(x='default', data=data, palette='hls')\n",
        "plt.show()\n",
        "plt.savefig('count_plot')"
      ],
      "metadata": {
        "colab": {
          "base_uri": "https://localhost:8080/",
          "height": 582
        },
        "id": "XINO67eL57Dd",
        "outputId": "ce33d450-2d27-4ca8-a4af-32fa932a4096"
      },
      "execution_count": null,
      "outputs": [
        {
          "output_type": "stream",
          "name": "stderr",
          "text": [
            "<ipython-input-15-b724b0f18d34>:1: FutureWarning: \n",
            "\n",
            "Passing `palette` without assigning `hue` is deprecated and will be removed in v0.14.0. Assign the `x` variable to `hue` and set `legend=False` for the same effect.\n",
            "\n",
            "  sns.countplot(x='default', data=data, palette='hls')\n"
          ]
        },
        {
          "output_type": "display_data",
          "data": {
            "text/plain": [
              "<Figure size 640x480 with 1 Axes>"
            ],
            "image/png": "[encoded data removed]"
          },
          "metadata": {}
        },
        {
          "output_type": "display_data",
          "data": {
            "text/plain": [
              "<Figure size 640x480 with 0 Axes>"
            ]
          },
          "metadata": {}
        }
      ]
    },
    {
      "cell_type": "code",
      "source": [
        "data['Year'] = data['fechanacimiento'].astype(str).str[:4]\n",
        "data['Year'] = pd.to_numeric(data['Year'])\n",
        "current_year = 2024\n",
        "data['Age'] = current_year -  data['Year']\n",
        "data = data.drop('Year', axis=1)\n",
        "print(data)"
      ],
      "metadata": {
        "colab": {
          "base_uri": "https://localhost:8080/"
        },
        "id": "KjiwjUaH9Bq_",
        "outputId": "2b879127-4c96-4c2a-a57e-e92e03aaa6bf"
      },
      "execution_count": null,
      "outputs": [
        {
          "output_type": "stream",
          "name": "stdout",
          "text": [
            "      cliente  oficina  ingresos viviendatipo  viviendavalor estadocivil  \\\n",
            "0     1000181       10   11099.0       propia       700000.0     soltero   \n",
            "1     1000276       10   31000.0     familiar       250000.0      casado   \n",
            "2     1000329       10   46000.0     familiar       200000.0      casado   \n",
            "3     1000885       10    4862.0       propia       350000.0      casado   \n",
            "4     1000903       10   22000.0     familiar        55000.0      casado   \n",
            "...       ...      ...       ...          ...            ...         ...   \n",
            "8139   823932        8   24000.0     familiar       580000.0      casado   \n",
            "8140   824009        8   18400.0     familiar       800000.0     soltero   \n",
            "8141   824025        8   21176.0     familiar       800000.0      casado   \n",
            "8142   824043        8   10404.0     familiar       800000.0     soltero   \n",
            "8143   824072        8   23862.0     familiar      1500000.0      casado   \n",
            "\n",
            "      lineasdevale  montosdelineas  dependientes  fechanacimiento  default  \\\n",
            "0                1         42000.0             2         20151007        1   \n",
            "1                1         55000.0             1         19701019        0   \n",
            "2                0             0.0             2         19730920        0   \n",
            "3                0             0.0             2         19800914        1   \n",
            "4                2         91476.0             3         19761010        1   \n",
            "...            ...             ...           ...              ...      ...   \n",
            "8139             0             0.0             1         19700331        0   \n",
            "8140             5        363453.0             1         19770403        0   \n",
            "8141             1         84337.0             2         19720723        1   \n",
            "8142             4        169502.0             3         19851231        1   \n",
            "8143             0             0.0             2         19970917        1   \n",
            "\n",
            "      Age  \n",
            "0       9  \n",
            "1      54  \n",
            "2      51  \n",
            "3      44  \n",
            "4      48  \n",
            "...   ...  \n",
            "8139   54  \n",
            "8140   47  \n",
            "8141   52  \n",
            "8142   39  \n",
            "8143   27  \n",
            "\n",
            "[8067 rows x 12 columns]\n"
          ]
        }
      ]
    },
    {
      "cell_type": "code",
      "source": [
        "data.groupby('default')[['ingresos', 'viviendavalor', 'lineasdevale', 'montosdelineas', 'dependientes', 'Age']].mean()"
      ],
      "metadata": {
        "colab": {
          "base_uri": "https://localhost:8080/",
          "height": 143
        },
        "id": "X-E4aKUO6VNT",
        "outputId": "5f944103-0823-49c4-bd92-766489b2bd40"
      },
      "execution_count": null,
      "outputs": [
        {
          "output_type": "execute_result",
          "data": {
            "text/plain": [
              "             ingresos  viviendavalor  lineasdevale  montosdelineas  \\\n",
              "default                                                              \n",
              "0        17756.976274  465785.318079      1.969667   158402.635448   \n",
              "1        18615.507488  384976.120462      2.079646   173615.402163   \n",
              "\n",
              "         dependientes        Age  \n",
              "default                           \n",
              "0            2.246975  47.941654  \n",
              "1            4.137660  45.280236  "
            ],
            "text/html": [
              "\n",
              "  <div id=\"df-3eea39b9-307c-473a-b0eb-ff6532f7b0c4\" class=\"colab-df-container\">\n",
              "    <div>\n",
              "<style scoped>\n",
              "    .dataframe tbody tr th:only-of-type {\n",
              "        vertical-align: middle;\n",
              "    }\n",
              "\n",
              "    .dataframe tbody tr th {\n",
              "        vertical-align: top;\n",
              "    }\n",
              "\n",
              "    .dataframe thead th {\n",
              "        text-align: right;\n",
              "    }\n",
              "</style>\n",
              "<table border=\"1\" class=\"dataframe\">\n",
              "  <thead>\n",
              "    <tr style=\"text-align: right;\">\n",
              "      <th></th>\n",
              "      <th>ingresos</th>\n",
              "      <th>viviendavalor</th>\n",
              "      <th>lineasdevale</th>\n",
              "      <th>montosdelineas</th>\n",
              "      <th>dependientes</th>\n",
              "      <th>Age</th>\n",
              "    </tr>\n",
              "    <tr>\n",
              "      <th>default</th>\n",
              "      <th></th>\n",
              "      <th></th>\n",
              "      <th></th>\n",
              "      <th></th>\n",
              "      <th></th>\n",
              "      <th></th>\n",
              "    </tr>\n",
              "  </thead>\n",
              "  <tbody>\n",
              "    <tr>\n",
              "      <th>0</th>\n",
              "      <td>17756.976274</td>\n",
              "      <td>465785.318079</td>\n",
              "      <td>1.969667</td>\n",
              "      <td>158402.635448</td>\n",
              "      <td>2.246975</td>\n",
              "      <td>47.941654</td>\n",
              "    </tr>\n",
              "    <tr>\n",
              "      <th>1</th>\n",
              "      <td>18615.507488</td>\n",
              "      <td>384976.120462</td>\n",
              "      <td>2.079646</td>\n",
              "      <td>173615.402163</td>\n",
              "      <td>4.137660</td>\n",
              "      <td>45.280236</td>\n",
              "    </tr>\n",
              "  </tbody>\n",
              "</table>\n",
              "</div>\n",
              "    <div class=\"colab-df-buttons\">\n",
              "\n",
              "  <div class=\"colab-df-container\">\n",
              "    <button class=\"colab-df-convert\" onclick=\"convertToInteractive('df-3eea39b9-307c-473a-b0eb-ff6532f7b0c4')\"\n",
              "            title=\"Convert this dataframe to an interactive table.\"\n",
              "            style=\"display:none;\">\n",
              "\n",
              "  <svg xmlns=\"http://www.w3.org/2000/svg\" height=\"24px\" viewBox=\"0 -960 960 960\">\n",
              "    <path d=\"M120-120v-720h720v720H120Zm60-500h600v-160H180v160Zm220 220h160v-160H400v160Zm0 220h160v-160H400v160ZM180-400h160v-160H180v160Zm440 0h160v-160H620v160ZM180-180h160v-160H180v160Zm440 0h160v-160H620v160Z\"/>\n",
              "  </svg>\n",
              "    </button>\n",
              "\n",
              "  <style>\n",
              "    .colab-df-container {\n",
              "      display:flex;\n",
              "      gap: 12px;\n",
              "    }\n",
              "\n",
              "    .colab-df-convert {\n",
              "      background-color: #E8F0FE;\n",
              "      border: none;\n",
              "      border-radius: 50%;\n",
              "      cursor: pointer;\n",
              "      display: none;\n",
              "      fill: #1967D2;\n",
              "      height: 32px;\n",
              "      padding: 0 0 0 0;\n",
              "      width: 32px;\n",
              "    }\n",
              "\n",
              "    .colab-df-convert:hover {\n",
              "      background-color: #E2EBFA;\n",
              "      box-shadow: 0px 1px 2px rgba(60, 64, 67, 0.3), 0px 1px 3px 1px rgba(60, 64, 67, 0.15);\n",
              "      fill: #174EA6;\n",
              "    }\n",
              "\n",
              "    .colab-df-buttons div {\n",
              "      margin-bottom: 4px;\n",
              "    }\n",
              "\n",
              "    [theme=dark] .colab-df-convert {\n",
              "      background-color: #3B4455;\n",
              "      fill: #D2E3FC;\n",
              "    }\n",
              "\n",
              "    [theme=dark] .colab-df-convert:hover {\n",
              "      background-color: #434B5C;\n",
              "      box-shadow: 0px 1px 3px 1px rgba(0, 0, 0, 0.15);\n",
              "      filter: drop-shadow(0px 1px 2px rgba(0, 0, 0, 0.3));\n",
              "      fill: #FFFFFF;\n",
              "    }\n",
              "  </style>\n",
              "\n",
              "    <script>\n",
              "      const buttonEl =\n",
              "        document.querySelector('#df-3eea39b9-307c-473a-b0eb-ff6532f7b0c4 button.colab-df-convert');\n",
              "      buttonEl.style.display =\n",
              "        google.colab.kernel.accessAllowed ? 'block' : 'none';\n",
              "\n",
              "      async function convertToInteractive(key) {\n",
              "        const element = document.querySelector('#df-3eea39b9-307c-473a-b0eb-ff6532f7b0c4');\n",
              "        const dataTable =\n",
              "          await google.colab.kernel.invokeFunction('convertToInteractive',\n",
              "                                                    [key], {});\n",
              "        if (!dataTable) return;\n",
              "\n",
              "        const docLinkHtml = 'Like what you see? Visit the ' +\n",
              "          '<a target=\"_blank\" href=https://colab.research.google.com/notebooks/data_table.ipynb>data table notebook</a>'\n",
              "          + ' to learn more about interactive tables.';\n",
              "        element.innerHTML = '';\n",
              "        dataTable['output_type'] = 'display_data';\n",
              "        await google.colab.output.renderOutput(dataTable, element);\n",
              "        const docLink = document.createElement('div');\n",
              "        docLink.innerHTML = docLinkHtml;\n",
              "        element.appendChild(docLink);\n",
              "      }\n",
              "    </script>\n",
              "  </div>\n",
              "\n",
              "\n",
              "<div id=\"df-e577aa8f-fc0f-4a6d-8b6a-8edaa8966e70\">\n",
              "  <button class=\"colab-df-quickchart\" onclick=\"quickchart('df-e577aa8f-fc0f-4a6d-8b6a-8edaa8966e70')\"\n",
              "            title=\"Suggest charts\"\n",
              "            style=\"display:none;\">\n",
              "\n",
              "<svg xmlns=\"http://www.w3.org/2000/svg\" height=\"24px\"viewBox=\"0 0 24 24\"\n",
              "     width=\"24px\">\n",
              "    <g>\n",
              "        <path d=\"M19 3H5c-1.1 0-2 .9-2 2v14c0 1.1.9 2 2 2h14c1.1 0 2-.9 2-2V5c0-1.1-.9-2-2-2zM9 17H7v-7h2v7zm4 0h-2V7h2v10zm4 0h-2v-4h2v4z\"/>\n",
              "    </g>\n",
              "</svg>\n",
              "  </button>\n",
              "\n",
              "<style>\n",
              "  .colab-df-quickchart {\n",
              "      --bg-color: #E8F0FE;\n",
              "      --fill-color: #1967D2;\n",
              "      --hover-bg-color: #E2EBFA;\n",
              "      --hover-fill-color: #174EA6;\n",
              "      --disabled-fill-color: #AAA;\n",
              "      --disabled-bg-color: #DDD;\n",
              "  }\n",
              "\n",
              "  [theme=dark] .colab-df-quickchart {\n",
              "      --bg-color: #3B4455;\n",
              "      --fill-color: #D2E3FC;\n",
              "      --hover-bg-color: #434B5C;\n",
              "      --hover-fill-color: #FFFFFF;\n",
              "      --disabled-bg-color: #3B4455;\n",
              "      --disabled-fill-color: #666;\n",
              "  }\n",
              "\n",
              "  .colab-df-quickchart {\n",
              "    background-color: var(--bg-color);\n",
              "    border: none;\n",
              "    border-radius: 50%;\n",
              "    cursor: pointer;\n",
              "    display: none;\n",
              "    fill: var(--fill-color);\n",
              "    height: 32px;\n",
              "    padding: 0;\n",
              "    width: 32px;\n",
              "  }\n",
              "\n",
              "  .colab-df-quickchart:hover {\n",
              "    background-color: var(--hover-bg-color);\n",
              "    box-shadow: 0 1px 2px rgba(60, 64, 67, 0.3), 0 1px 3px 1px rgba(60, 64, 67, 0.15);\n",
              "    fill: var(--button-hover-fill-color);\n",
              "  }\n",
              "\n",
              "  .colab-df-quickchart-complete:disabled,\n",
              "  .colab-df-quickchart-complete:disabled:hover {\n",
              "    background-color: var(--disabled-bg-color);\n",
              "    fill: var(--disabled-fill-color);\n",
              "    box-shadow: none;\n",
              "  }\n",
              "\n",
              "  .colab-df-spinner {\n",
              "    border: 2px solid var(--fill-color);\n",
              "    border-color: transparent;\n",
              "    border-bottom-color: var(--fill-color);\n",
              "    animation:\n",
              "      spin 1s steps(1) infinite;\n",
              "  }\n",
              "\n",
              "  @keyframes spin {\n",
              "    0% {\n",
              "      border-color: transparent;\n",
              "      border-bottom-color: var(--fill-color);\n",
              "      border-left-color: var(--fill-color);\n",
              "    }\n",
              "    20% {\n",
              "      border-color: transparent;\n",
              "      border-left-color: var(--fill-color);\n",
              "      border-top-color: var(--fill-color);\n",
              "    }\n",
              "    30% {\n",
              "      border-color: transparent;\n",
              "      border-left-color: var(--fill-color);\n",
              "      border-top-color: var(--fill-color);\n",
              "      border-right-color: var(--fill-color);\n",
              "    }\n",
              "    40% {\n",
              "      border-color: transparent;\n",
              "      border-right-color: var(--fill-color);\n",
              "      border-top-color: var(--fill-color);\n",
              "    }\n",
              "    60% {\n",
              "      border-color: transparent;\n",
              "      border-right-color: var(--fill-color);\n",
              "    }\n",
              "    80% {\n",
              "      border-color: transparent;\n",
              "      border-right-color: var(--fill-color);\n",
              "      border-bottom-color: var(--fill-color);\n",
              "    }\n",
              "    90% {\n",
              "      border-color: transparent;\n",
              "      border-bottom-color: var(--fill-color);\n",
              "    }\n",
              "  }\n",
              "</style>\n",
              "\n",
              "  <script>\n",
              "    async function quickchart(key) {\n",
              "      const quickchartButtonEl =\n",
              "        document.querySelector('#' + key + ' button');\n",
              "      quickchartButtonEl.disabled = true;  // To prevent multiple clicks.\n",
              "      quickchartButtonEl.classList.add('colab-df-spinner');\n",
              "      try {\n",
              "        const charts = await google.colab.kernel.invokeFunction(\n",
              "            'suggestCharts', [key], {});\n",
              "      } catch (error) {\n",
              "        console.error('Error during call to suggestCharts:', error);\n",
              "      }\n",
              "      quickchartButtonEl.classList.remove('colab-df-spinner');\n",
              "      quickchartButtonEl.classList.add('colab-df-quickchart-complete');\n",
              "    }\n",
              "    (() => {\n",
              "      let quickchartButtonEl =\n",
              "        document.querySelector('#df-e577aa8f-fc0f-4a6d-8b6a-8edaa8966e70 button');\n",
              "      quickchartButtonEl.style.display =\n",
              "        google.colab.kernel.accessAllowed ? 'block' : 'none';\n",
              "    })();\n",
              "  </script>\n",
              "</div>\n",
              "\n",
              "    </div>\n",
              "  </div>\n"
            ],
            "application/vnd.google.colaboratory.intrinsic+json": {
              "type": "dataframe",
              "summary": "{\n  \"name\": \"data\",\n  \"rows\": 2,\n  \"fields\": [\n    {\n      \"column\": \"default\",\n      \"properties\": {\n        \"dtype\": \"number\",\n        \"std\": 0,\n        \"min\": 0,\n        \"max\": 1,\n        \"num_unique_values\": 2,\n        \"samples\": [\n          1,\n          0\n        ],\n        \"semantic_type\": \"\",\n        \"description\": \"\"\n      }\n    },\n    {\n      \"column\": \"ingresos\",\n      \"properties\": {\n        \"dtype\": \"number\",\n        \"std\": 607.0732431960417,\n        \"min\": 17756.976273827284,\n        \"max\": 18615.507487708946,\n        \"num_unique_values\": 2,\n        \"samples\": [\n          18615.507487708946,\n          17756.976273827284\n        ],\n        \"semantic_type\": \"\",\n        \"description\": \"\"\n      }\n    },\n    {\n      \"column\": \"viviendavalor\",\n      \"properties\": {\n        \"dtype\": \"number\",\n        \"std\": 57140.73161705181,\n        \"min\": 384976.12046214356,\n        \"max\": 465785.31807889935,\n        \"num_unique_values\": 2,\n        \"samples\": [\n          384976.12046214356,\n          465785.31807889935\n        ],\n        \"semantic_type\": \"\",\n        \"description\": \"\"\n      }\n    },\n    {\n      \"column\": \"lineasdevale\",\n      \"properties\": {\n        \"dtype\": \"number\",\n        \"std\": 0.07776702769904537,\n        \"min\": 1.9696668324216808,\n        \"max\": 2.079646017699115,\n        \"num_unique_values\": 2,\n        \"samples\": [\n          2.079646017699115,\n          1.9696668324216808\n        ],\n        \"semantic_type\": \"\",\n        \"description\": \"\"\n      }\n    },\n    {\n      \"column\": \"montosdelineas\",\n      \"properties\": {\n        \"dtype\": \"number\",\n        \"std\": 10757.05050468499,\n        \"min\": 158402.6354483673,\n        \"max\": 173615.40216322517,\n        \"num_unique_values\": 2,\n        \"samples\": [\n          173615.40216322517,\n          158402.6354483673\n        ],\n        \"semantic_type\": \"\",\n        \"description\": \"\"\n      }\n    },\n    {\n      \"column\": \"dependientes\",\n      \"properties\": {\n        \"dtype\": \"number\",\n        \"std\": 1.3369160521357055,\n        \"min\": 2.2469749709928726,\n        \"max\": 4.137659783677483,\n        \"num_unique_values\": 2,\n        \"samples\": [\n          4.137659783677483,\n          2.2469749709928726\n        ],\n        \"semantic_type\": \"\",\n        \"description\": \"\"\n      }\n    },\n    {\n      \"column\": \"Age\",\n      \"properties\": {\n        \"dtype\": \"number\",\n        \"std\": 1.881906889914192,\n        \"min\": 45.28023598820059,\n        \"max\": 47.94165423504061,\n        \"num_unique_values\": 2,\n        \"samples\": [\n          45.28023598820059,\n          47.94165423504061\n        ],\n        \"semantic_type\": \"\",\n        \"description\": \"\"\n      }\n    }\n  ]\n}"
            }
          },
          "metadata": {},
          "execution_count": 17
        }
      ]
    },
    {
      "cell_type": "code",
      "source": [
        "data['viviendatipo'].unique()"
      ],
      "metadata": {
        "colab": {
          "base_uri": "https://localhost:8080/"
        },
        "id": "VrzZ641I-Vyx",
        "outputId": "5a6a9971-e38c-4678-a539-a0bc842d3b3f"
      },
      "execution_count": null,
      "outputs": [
        {
          "output_type": "execute_result",
          "data": {
            "text/plain": [
              "array(['propia', 'familiar', 'Familiar'], dtype=object)"
            ]
          },
          "metadata": {},
          "execution_count": 18
        }
      ]
    },
    {
      "cell_type": "code",
      "source": [
        "data['viviendatipo']=np.where(data['viviendatipo']=='Familiar', 'familiar', data['viviendatipo'])\n",
        "data['viviendatipo'].unique()"
      ],
      "metadata": {
        "colab": {
          "base_uri": "https://localhost:8080/"
        },
        "id": "xKDdKB5z-giG",
        "outputId": "a1de64d2-2703-4a6e-ce73-767e899e165c"
      },
      "execution_count": null,
      "outputs": [
        {
          "output_type": "execute_result",
          "data": {
            "text/plain": [
              "array(['propia', 'familiar'], dtype=object)"
            ]
          },
          "metadata": {},
          "execution_count": 19
        }
      ]
    },
    {
      "cell_type": "code",
      "source": [
        "data.groupby('viviendatipo')[['ingresos', 'lineasdevale', 'viviendavalor', 'montosdelineas', 'dependientes', 'Age', 'default']].mean()"
      ],
      "metadata": {
        "colab": {
          "base_uri": "https://localhost:8080/",
          "height": 143
        },
        "id": "b7Asnm51_Jv6",
        "outputId": "3e70418e-2696-4ca2-c322-e27b99d20a59"
      },
      "execution_count": null,
      "outputs": [
        {
          "output_type": "execute_result",
          "data": {
            "text/plain": [
              "                  ingresos  lineasdevale  viviendavalor  montosdelineas  \\\n",
              "viviendatipo                                                              \n",
              "familiar      17736.985017      1.964292  436136.369013   148764.931648   \n",
              "propia        18682.238712      2.096630  473208.799222   202625.250803   \n",
              "\n",
              "              dependientes        Age   default  \n",
              "viviendatipo                                     \n",
              "familiar          2.818813  46.605720  0.259051  \n",
              "propia            2.438553  49.263627  0.231417  "
            ],
            "text/html": [
              "\n",
              "  <div id=\"df-a1d41eea-531a-442e-8360-844cdc0e1e0d\" class=\"colab-df-container\">\n",
              "    <div>\n",
              "<style scoped>\n",
              "    .dataframe tbody tr th:only-of-type {\n",
              "        vertical-align: middle;\n",
              "    }\n",
              "\n",
              "    .dataframe tbody tr th {\n",
              "        vertical-align: top;\n",
              "    }\n",
              "\n",
              "    .dataframe thead th {\n",
              "        text-align: right;\n",
              "    }\n",
              "</style>\n",
              "<table border=\"1\" class=\"dataframe\">\n",
              "  <thead>\n",
              "    <tr style=\"text-align: right;\">\n",
              "      <th></th>\n",
              "      <th>ingresos</th>\n",
              "      <th>lineasdevale</th>\n",
              "      <th>viviendavalor</th>\n",
              "      <th>montosdelineas</th>\n",
              "      <th>dependientes</th>\n",
              "      <th>Age</th>\n",
              "      <th>default</th>\n",
              "    </tr>\n",
              "    <tr>\n",
              "      <th>viviendatipo</th>\n",
              "      <th></th>\n",
              "      <th></th>\n",
              "      <th></th>\n",
              "      <th></th>\n",
              "      <th></th>\n",
              "      <th></th>\n",
              "      <th></th>\n",
              "    </tr>\n",
              "  </thead>\n",
              "  <tbody>\n",
              "    <tr>\n",
              "      <th>familiar</th>\n",
              "      <td>17736.985017</td>\n",
              "      <td>1.964292</td>\n",
              "      <td>436136.369013</td>\n",
              "      <td>148764.931648</td>\n",
              "      <td>2.818813</td>\n",
              "      <td>46.605720</td>\n",
              "      <td>0.259051</td>\n",
              "    </tr>\n",
              "    <tr>\n",
              "      <th>propia</th>\n",
              "      <td>18682.238712</td>\n",
              "      <td>2.096630</td>\n",
              "      <td>473208.799222</td>\n",
              "      <td>202625.250803</td>\n",
              "      <td>2.438553</td>\n",
              "      <td>49.263627</td>\n",
              "      <td>0.231417</td>\n",
              "    </tr>\n",
              "  </tbody>\n",
              "</table>\n",
              "</div>\n",
              "    <div class=\"colab-df-buttons\">\n",
              "\n",
              "  <div class=\"colab-df-container\">\n",
              "    <button class=\"colab-df-convert\" onclick=\"convertToInteractive('df-a1d41eea-531a-442e-8360-844cdc0e1e0d')\"\n",
              "            title=\"Convert this dataframe to an interactive table.\"\n",
              "            style=\"display:none;\">\n",
              "\n",
              "  <svg xmlns=\"http://www.w3.org/2000/svg\" height=\"24px\" viewBox=\"0 -960 960 960\">\n",
              "    <path d=\"M120-120v-720h720v720H120Zm60-500h600v-160H180v160Zm220 220h160v-160H400v160Zm0 220h160v-160H400v160ZM180-400h160v-160H180v160Zm440 0h160v-160H620v160ZM180-180h160v-160H180v160Zm440 0h160v-160H620v160Z\"/>\n",
              "  </svg>\n",
              "    </button>\n",
              "\n",
              "  <style>\n",
              "    .colab-df-container {\n",
              "      display:flex;\n",
              "      gap: 12px;\n",
              "    }\n",
              "\n",
              "    .colab-df-convert {\n",
              "      background-color: #E8F0FE;\n",
              "      border: none;\n",
              "      border-radius: 50%;\n",
              "      cursor: pointer;\n",
              "      display: none;\n",
              "      fill: #1967D2;\n",
              "      height: 32px;\n",
              "      padding: 0 0 0 0;\n",
              "      width: 32px;\n",
              "    }\n",
              "\n",
              "    .colab-df-convert:hover {\n",
              "      background-color: #E2EBFA;\n",
              "      box-shadow: 0px 1px 2px rgba(60, 64, 67, 0.3), 0px 1px 3px 1px rgba(60, 64, 67, 0.15);\n",
              "      fill: #174EA6;\n",
              "    }\n",
              "\n",
              "    .colab-df-buttons div {\n",
              "      margin-bottom: 4px;\n",
              "    }\n",
              "\n",
              "    [theme=dark] .colab-df-convert {\n",
              "      background-color: #3B4455;\n",
              "      fill: #D2E3FC;\n",
              "    }\n",
              "\n",
              "    [theme=dark] .colab-df-convert:hover {\n",
              "      background-color: #434B5C;\n",
              "      box-shadow: 0px 1px 3px 1px rgba(0, 0, 0, 0.15);\n",
              "      filter: drop-shadow(0px 1px 2px rgba(0, 0, 0, 0.3));\n",
              "      fill: #FFFFFF;\n",
              "    }\n",
              "  </style>\n",
              "\n",
              "    <script>\n",
              "      const buttonEl =\n",
              "        document.querySelector('#df-a1d41eea-531a-442e-8360-844cdc0e1e0d button.colab-df-convert');\n",
              "      buttonEl.style.display =\n",
              "        google.colab.kernel.accessAllowed ? 'block' : 'none';\n",
              "\n",
              "      async function convertToInteractive(key) {\n",
              "        const element = document.querySelector('#df-a1d41eea-531a-442e-8360-844cdc0e1e0d');\n",
              "        const dataTable =\n",
              "          await google.colab.kernel.invokeFunction('convertToInteractive',\n",
              "                                                    [key], {});\n",
              "        if (!dataTable) return;\n",
              "\n",
              "        const docLinkHtml = 'Like what you see? Visit the ' +\n",
              "          '<a target=\"_blank\" href=https://colab.research.google.com/notebooks/data_table.ipynb>data table notebook</a>'\n",
              "          + ' to learn more about interactive tables.';\n",
              "        element.innerHTML = '';\n",
              "        dataTable['output_type'] = 'display_data';\n",
              "        await google.colab.output.renderOutput(dataTable, element);\n",
              "        const docLink = document.createElement('div');\n",
              "        docLink.innerHTML = docLinkHtml;\n",
              "        element.appendChild(docLink);\n",
              "      }\n",
              "    </script>\n",
              "  </div>\n",
              "\n",
              "\n",
              "<div id=\"df-6995ab54-f57b-40d5-8260-68ae1d67fc35\">\n",
              "  <button class=\"colab-df-quickchart\" onclick=\"quickchart('df-6995ab54-f57b-40d5-8260-68ae1d67fc35')\"\n",
              "            title=\"Suggest charts\"\n",
              "            style=\"display:none;\">\n",
              "\n",
              "<svg xmlns=\"http://www.w3.org/2000/svg\" height=\"24px\"viewBox=\"0 0 24 24\"\n",
              "     width=\"24px\">\n",
              "    <g>\n",
              "        <path d=\"M19 3H5c-1.1 0-2 .9-2 2v14c0 1.1.9 2 2 2h14c1.1 0 2-.9 2-2V5c0-1.1-.9-2-2-2zM9 17H7v-7h2v7zm4 0h-2V7h2v10zm4 0h-2v-4h2v4z\"/>\n",
              "    </g>\n",
              "</svg>\n",
              "  </button>\n",
              "\n",
              "<style>\n",
              "  .colab-df-quickchart {\n",
              "      --bg-color: #E8F0FE;\n",
              "      --fill-color: #1967D2;\n",
              "      --hover-bg-color: #E2EBFA;\n",
              "      --hover-fill-color: #174EA6;\n",
              "      --disabled-fill-color: #AAA;\n",
              "      --disabled-bg-color: #DDD;\n",
              "  }\n",
              "\n",
              "  [theme=dark] .colab-df-quickchart {\n",
              "      --bg-color: #3B4455;\n",
              "      --fill-color: #D2E3FC;\n",
              "      --hover-bg-color: #434B5C;\n",
              "      --hover-fill-color: #FFFFFF;\n",
              "      --disabled-bg-color: #3B4455;\n",
              "      --disabled-fill-color: #666;\n",
              "  }\n",
              "\n",
              "  .colab-df-quickchart {\n",
              "    background-color: var(--bg-color);\n",
              "    border: none;\n",
              "    border-radius: 50%;\n",
              "    cursor: pointer;\n",
              "    display: none;\n",
              "    fill: var(--fill-color);\n",
              "    height: 32px;\n",
              "    padding: 0;\n",
              "    width: 32px;\n",
              "  }\n",
              "\n",
              "  .colab-df-quickchart:hover {\n",
              "    background-color: var(--hover-bg-color);\n",
              "    box-shadow: 0 1px 2px rgba(60, 64, 67, 0.3), 0 1px 3px 1px rgba(60, 64, 67, 0.15);\n",
              "    fill: var(--button-hover-fill-color);\n",
              "  }\n",
              "\n",
              "  .colab-df-quickchart-complete:disabled,\n",
              "  .colab-df-quickchart-complete:disabled:hover {\n",
              "    background-color: var(--disabled-bg-color);\n",
              "    fill: var(--disabled-fill-color);\n",
              "    box-shadow: none;\n",
              "  }\n",
              "\n",
              "  .colab-df-spinner {\n",
              "    border: 2px solid var(--fill-color);\n",
              "    border-color: transparent;\n",
              "    border-bottom-color: var(--fill-color);\n",
              "    animation:\n",
              "      spin 1s steps(1) infinite;\n",
              "  }\n",
              "\n",
              "  @keyframes spin {\n",
              "    0% {\n",
              "      border-color: transparent;\n",
              "      border-bottom-color: var(--fill-color);\n",
              "      border-left-color: var(--fill-color);\n",
              "    }\n",
              "    20% {\n",
              "      border-color: transparent;\n",
              "      border-left-color: var(--fill-color);\n",
              "      border-top-color: var(--fill-color);\n",
              "    }\n",
              "    30% {\n",
              "      border-color: transparent;\n",
              "      border-left-color: var(--fill-color);\n",
              "      border-top-color: var(--fill-color);\n",
              "      border-right-color: var(--fill-color);\n",
              "    }\n",
              "    40% {\n",
              "      border-color: transparent;\n",
              "      border-right-color: var(--fill-color);\n",
              "      border-top-color: var(--fill-color);\n",
              "    }\n",
              "    60% {\n",
              "      border-color: transparent;\n",
              "      border-right-color: var(--fill-color);\n",
              "    }\n",
              "    80% {\n",
              "      border-color: transparent;\n",
              "      border-right-color: var(--fill-color);\n",
              "      border-bottom-color: var(--fill-color);\n",
              "    }\n",
              "    90% {\n",
              "      border-color: transparent;\n",
              "      border-bottom-color: var(--fill-color);\n",
              "    }\n",
              "  }\n",
              "</style>\n",
              "\n",
              "  <script>\n",
              "    async function quickchart(key) {\n",
              "      const quickchartButtonEl =\n",
              "        document.querySelector('#' + key + ' button');\n",
              "      quickchartButtonEl.disabled = true;  // To prevent multiple clicks.\n",
              "      quickchartButtonEl.classList.add('colab-df-spinner');\n",
              "      try {\n",
              "        const charts = await google.colab.kernel.invokeFunction(\n",
              "            'suggestCharts', [key], {});\n",
              "      } catch (error) {\n",
              "        console.error('Error during call to suggestCharts:', error);\n",
              "      }\n",
              "      quickchartButtonEl.classList.remove('colab-df-spinner');\n",
              "      quickchartButtonEl.classList.add('colab-df-quickchart-complete');\n",
              "    }\n",
              "    (() => {\n",
              "      let quickchartButtonEl =\n",
              "        document.querySelector('#df-6995ab54-f57b-40d5-8260-68ae1d67fc35 button');\n",
              "      quickchartButtonEl.style.display =\n",
              "        google.colab.kernel.accessAllowed ? 'block' : 'none';\n",
              "    })();\n",
              "  </script>\n",
              "</div>\n",
              "\n",
              "    </div>\n",
              "  </div>\n"
            ],
            "application/vnd.google.colaboratory.intrinsic+json": {
              "type": "dataframe",
              "summary": "{\n  \"name\": \"data\",\n  \"rows\": 2,\n  \"fields\": [\n    {\n      \"column\": \"viviendatipo\",\n      \"properties\": {\n        \"dtype\": \"string\",\n        \"num_unique_values\": 2,\n        \"samples\": [\n          \"propia\",\n          \"familiar\"\n        ],\n        \"semantic_type\": \"\",\n        \"description\": \"\"\n      }\n    },\n    {\n      \"column\": \"ingresos\",\n      \"properties\": {\n        \"dtype\": \"number\",\n        \"std\": 668.3952971368976,\n        \"min\": 17736.98501735824,\n        \"max\": 18682.238711595637,\n        \"num_unique_values\": 2,\n        \"samples\": [\n          18682.238711595637,\n          17736.98501735824\n        ],\n        \"semantic_type\": \"\",\n        \"description\": \"\"\n      }\n    },\n    {\n      \"column\": \"lineasdevale\",\n      \"properties\": {\n        \"dtype\": \"number\",\n        \"std\": 0.09357759826959408,\n        \"min\": 1.9642916184493304,\n        \"max\": 2.0966303270564914,\n        \"num_unique_values\": 2,\n        \"samples\": [\n          2.0966303270564914,\n          1.9642916184493304\n        ],\n        \"semantic_type\": \"\",\n        \"description\": \"\"\n      }\n    },\n    {\n      \"column\": \"viviendavalor\",\n      \"properties\": {\n        \"dtype\": \"number\",\n        \"std\": 26214.16679580789,\n        \"min\": 436136.36901306,\n        \"max\": 473208.799222002,\n        \"num_unique_values\": 2,\n        \"samples\": [\n          473208.799222002,\n          436136.36901306\n        ],\n        \"semantic_type\": \"\",\n        \"description\": \"\"\n      }\n    },\n    {\n      \"column\": \"montosdelineas\",\n      \"properties\": {\n        \"dtype\": \"number\",\n        \"std\": 38084.99691106723,\n        \"min\": 148764.93164820632,\n        \"max\": 202625.25080277503,\n        \"num_unique_values\": 2,\n        \"samples\": [\n          202625.25080277503,\n          148764.93164820632\n        ],\n        \"semantic_type\": \"\",\n        \"description\": \"\"\n      }\n    },\n    {\n      \"column\": \"dependientes\",\n      \"properties\": {\n        \"dtype\": \"number\",\n        \"std\": 0.2688844275497318,\n        \"min\": 2.438553022794846,\n        \"max\": 2.8188130269466027,\n        \"num_unique_values\": 2,\n        \"samples\": [\n          2.438553022794846,\n          2.8188130269466027\n        ],\n        \"semantic_type\": \"\",\n        \"description\": \"\"\n      }\n    },\n    {\n      \"column\": \"Age\",\n      \"properties\": {\n        \"dtype\": \"number\",\n        \"std\": 1.8794243463796565,\n        \"min\": 46.60571995371136,\n        \"max\": 49.26362735381566,\n        \"num_unique_values\": 2,\n        \"samples\": [\n          49.26362735381566,\n          46.60571995371136\n        ],\n        \"semantic_type\": \"\",\n        \"description\": \"\"\n      }\n    },\n    {\n      \"column\": \"default\",\n      \"properties\": {\n        \"dtype\": \"number\",\n        \"std\": 0.019540074258945894,\n        \"min\": 0.23141724479682854,\n        \"max\": 0.2590510828236072,\n        \"num_unique_values\": 2,\n        \"samples\": [\n          0.23141724479682854,\n          0.2590510828236072\n        ],\n        \"semantic_type\": \"\",\n        \"description\": \"\"\n      }\n    }\n  ]\n}"
            }
          },
          "metadata": {},
          "execution_count": 20
        }
      ]
    },
    {
      "cell_type": "code",
      "source": [
        "data['estadocivil'].unique()"
      ],
      "metadata": {
        "colab": {
          "base_uri": "https://localhost:8080/"
        },
        "id": "z7WwNCurAMAB",
        "outputId": "07e9f8d2-e5d4-4d4c-9247-3706a2914e3a"
      },
      "execution_count": null,
      "outputs": [
        {
          "output_type": "execute_result",
          "data": {
            "text/plain": [
              "array(['soltero', 'casado', 'union_libre', 'Soltero', 'unión libre'],\n",
              "      dtype=object)"
            ]
          },
          "metadata": {},
          "execution_count": 21
        }
      ]
    },
    {
      "cell_type": "code",
      "source": [
        "data['estadocivil']=np.where(data['estadocivil']=='Soltero', 'soltero', data['estadocivil'])\n",
        "data['estadocivil']=np.where(data['estadocivil']=='unión libre', 'union_libre', data['estadocivil'])\n",
        "data['estadocivil'].unique()"
      ],
      "metadata": {
        "colab": {
          "base_uri": "https://localhost:8080/"
        },
        "id": "X4mEQ2zIASch",
        "outputId": "f41c17ca-5e9a-4c9f-f634-64607a21387b"
      },
      "execution_count": null,
      "outputs": [
        {
          "output_type": "execute_result",
          "data": {
            "text/plain": [
              "array(['soltero', 'casado', 'union_libre'], dtype=object)"
            ]
          },
          "metadata": {},
          "execution_count": 22
        }
      ]
    },
    {
      "cell_type": "code",
      "source": [
        "data.groupby('estadocivil')[['ingresos', 'lineasdevale', 'viviendavalor', 'montosdelineas', 'dependientes', 'Age', 'default']].mean()"
      ],
      "metadata": {
        "colab": {
          "base_uri": "https://localhost:8080/",
          "height": 174
        },
        "id": "en-25rDl_VGy",
        "outputId": "33ec01bc-9809-45f7-9db4-7ae676900405"
      },
      "execution_count": null,
      "outputs": [
        {
          "output_type": "execute_result",
          "data": {
            "text/plain": [
              "                 ingresos  lineasdevale  viviendavalor  montosdelineas  \\\n",
              "estadocivil                                                              \n",
              "casado       18787.794148      2.200985  428939.399386   167542.021338   \n",
              "soltero      15714.180858      1.849538  441141.014840   191901.283873   \n",
              "union_libre  18201.672375      1.560489  499986.338958   111152.020824   \n",
              "\n",
              "             dependientes        Age   default  \n",
              "estadocivil                                     \n",
              "casado           2.716396  47.955051  0.236729  \n",
              "soltero          2.482347  48.036936  0.263987  \n",
              "union_libre      3.031532  44.305019  0.284427  "
            ],
            "text/html": [
              "\n",
              "  <div id=\"df-201d1e93-6608-4abb-88fa-af6d14930f51\" class=\"colab-df-container\">\n",
              "    <div>\n",
              "<style scoped>\n",
              "    .dataframe tbody tr th:only-of-type {\n",
              "        vertical-align: middle;\n",
              "    }\n",
              "\n",
              "    .dataframe tbody tr th {\n",
              "        vertical-align: top;\n",
              "    }\n",
              "\n",
              "    .dataframe thead th {\n",
              "        text-align: right;\n",
              "    }\n",
              "</style>\n",
              "<table border=\"1\" class=\"dataframe\">\n",
              "  <thead>\n",
              "    <tr style=\"text-align: right;\">\n",
              "      <th></th>\n",
              "      <th>ingresos</th>\n",
              "      <th>lineasdevale</th>\n",
              "      <th>viviendavalor</th>\n",
              "      <th>montosdelineas</th>\n",
              "      <th>dependientes</th>\n",
              "      <th>Age</th>\n",
              "      <th>default</th>\n",
              "    </tr>\n",
              "    <tr>\n",
              "      <th>estadocivil</th>\n",
              "      <th></th>\n",
              "      <th></th>\n",
              "      <th></th>\n",
              "      <th></th>\n",
              "      <th></th>\n",
              "      <th></th>\n",
              "      <th></th>\n",
              "    </tr>\n",
              "  </thead>\n",
              "  <tbody>\n",
              "    <tr>\n",
              "      <th>casado</th>\n",
              "      <td>18787.794148</td>\n",
              "      <td>2.200985</td>\n",
              "      <td>428939.399386</td>\n",
              "      <td>167542.021338</td>\n",
              "      <td>2.716396</td>\n",
              "      <td>47.955051</td>\n",
              "      <td>0.236729</td>\n",
              "    </tr>\n",
              "    <tr>\n",
              "      <th>soltero</th>\n",
              "      <td>15714.180858</td>\n",
              "      <td>1.849538</td>\n",
              "      <td>441141.014840</td>\n",
              "      <td>191901.283873</td>\n",
              "      <td>2.482347</td>\n",
              "      <td>48.036936</td>\n",
              "      <td>0.263987</td>\n",
              "    </tr>\n",
              "    <tr>\n",
              "      <th>union_libre</th>\n",
              "      <td>18201.672375</td>\n",
              "      <td>1.560489</td>\n",
              "      <td>499986.338958</td>\n",
              "      <td>111152.020824</td>\n",
              "      <td>3.031532</td>\n",
              "      <td>44.305019</td>\n",
              "      <td>0.284427</td>\n",
              "    </tr>\n",
              "  </tbody>\n",
              "</table>\n",
              "</div>\n",
              "    <div class=\"colab-df-buttons\">\n",
              "\n",
              "  <div class=\"colab-df-container\">\n",
              "    <button class=\"colab-df-convert\" onclick=\"convertToInteractive('df-201d1e93-6608-4abb-88fa-af6d14930f51')\"\n",
              "            title=\"Convert this dataframe to an interactive table.\"\n",
              "            style=\"display:none;\">\n",
              "\n",
              "  <svg xmlns=\"http://www.w3.org/2000/svg\" height=\"24px\" viewBox=\"0 -960 960 960\">\n",
              "    <path d=\"M120-120v-720h720v720H120Zm60-500h600v-160H180v160Zm220 220h160v-160H400v160Zm0 220h160v-160H400v160ZM180-400h160v-160H180v160Zm440 0h160v-160H620v160ZM180-180h160v-160H180v160Zm440 0h160v-160H620v160Z\"/>\n",
              "  </svg>\n",
              "    </button>\n",
              "\n",
              "  <style>\n",
              "    .colab-df-container {\n",
              "      display:flex;\n",
              "      gap: 12px;\n",
              "    }\n",
              "\n",
              "    .colab-df-convert {\n",
              "      background-color: #E8F0FE;\n",
              "      border: none;\n",
              "      border-radius: 50%;\n",
              "      cursor: pointer;\n",
              "      display: none;\n",
              "      fill: #1967D2;\n",
              "      height: 32px;\n",
              "      padding: 0 0 0 0;\n",
              "      width: 32px;\n",
              "    }\n",
              "\n",
              "    .colab-df-convert:hover {\n",
              "      background-color: #E2EBFA;\n",
              "      box-shadow: 0px 1px 2px rgba(60, 64, 67, 0.3), 0px 1px 3px 1px rgba(60, 64, 67, 0.15);\n",
              "      fill: #174EA6;\n",
              "    }\n",
              "\n",
              "    .colab-df-buttons div {\n",
              "      margin-bottom: 4px;\n",
              "    }\n",
              "\n",
              "    [theme=dark] .colab-df-convert {\n",
              "      background-color: #3B4455;\n",
              "      fill: #D2E3FC;\n",
              "    }\n",
              "\n",
              "    [theme=dark] .colab-df-convert:hover {\n",
              "      background-color: #434B5C;\n",
              "      box-shadow: 0px 1px 3px 1px rgba(0, 0, 0, 0.15);\n",
              "      filter: drop-shadow(0px 1px 2px rgba(0, 0, 0, 0.3));\n",
              "      fill: #FFFFFF;\n",
              "    }\n",
              "  </style>\n",
              "\n",
              "    <script>\n",
              "      const buttonEl =\n",
              "        document.querySelector('#df-201d1e93-6608-4abb-88fa-af6d14930f51 button.colab-df-convert');\n",
              "      buttonEl.style.display =\n",
              "        google.colab.kernel.accessAllowed ? 'block' : 'none';\n",
              "\n",
              "      async function convertToInteractive(key) {\n",
              "        const element = document.querySelector('#df-201d1e93-6608-4abb-88fa-af6d14930f51');\n",
              "        const dataTable =\n",
              "          await google.colab.kernel.invokeFunction('convertToInteractive',\n",
              "                                                    [key], {});\n",
              "        if (!dataTable) return;\n",
              "\n",
              "        const docLinkHtml = 'Like what you see? Visit the ' +\n",
              "          '<a target=\"_blank\" href=https://colab.research.google.com/notebooks/data_table.ipynb>data table notebook</a>'\n",
              "          + ' to learn more about interactive tables.';\n",
              "        element.innerHTML = '';\n",
              "        dataTable['output_type'] = 'display_data';\n",
              "        await google.colab.output.renderOutput(dataTable, element);\n",
              "        const docLink = document.createElement('div');\n",
              "        docLink.innerHTML = docLinkHtml;\n",
              "        element.appendChild(docLink);\n",
              "      }\n",
              "    </script>\n",
              "  </div>\n",
              "\n",
              "\n",
              "<div id=\"df-c9c721e9-79ac-482f-836a-7668c64e50d2\">\n",
              "  <button class=\"colab-df-quickchart\" onclick=\"quickchart('df-c9c721e9-79ac-482f-836a-7668c64e50d2')\"\n",
              "            title=\"Suggest charts\"\n",
              "            style=\"display:none;\">\n",
              "\n",
              "<svg xmlns=\"http://www.w3.org/2000/svg\" height=\"24px\"viewBox=\"0 0 24 24\"\n",
              "     width=\"24px\">\n",
              "    <g>\n",
              "        <path d=\"M19 3H5c-1.1 0-2 .9-2 2v14c0 1.1.9 2 2 2h14c1.1 0 2-.9 2-2V5c0-1.1-.9-2-2-2zM9 17H7v-7h2v7zm4 0h-2V7h2v10zm4 0h-2v-4h2v4z\"/>\n",
              "    </g>\n",
              "</svg>\n",
              "  </button>\n",
              "\n",
              "<style>\n",
              "  .colab-df-quickchart {\n",
              "      --bg-color: #E8F0FE;\n",
              "      --fill-color: #1967D2;\n",
              "      --hover-bg-color: #E2EBFA;\n",
              "      --hover-fill-color: #174EA6;\n",
              "      --disabled-fill-color: #AAA;\n",
              "      --disabled-bg-color: #DDD;\n",
              "  }\n",
              "\n",
              "  [theme=dark] .colab-df-quickchart {\n",
              "      --bg-color: #3B4455;\n",
              "      --fill-color: #D2E3FC;\n",
              "      --hover-bg-color: #434B5C;\n",
              "      --hover-fill-color: #FFFFFF;\n",
              "      --disabled-bg-color: #3B4455;\n",
              "      --disabled-fill-color: #666;\n",
              "  }\n",
              "\n",
              "  .colab-df-quickchart {\n",
              "    background-color: var(--bg-color);\n",
              "    border: none;\n",
              "    border-radius: 50%;\n",
              "    cursor: pointer;\n",
              "    display: none;\n",
              "    fill: var(--fill-color);\n",
              "    height: 32px;\n",
              "    padding: 0;\n",
              "    width: 32px;\n",
              "  }\n",
              "\n",
              "  .colab-df-quickchart:hover {\n",
              "    background-color: var(--hover-bg-color);\n",
              "    box-shadow: 0 1px 2px rgba(60, 64, 67, 0.3), 0 1px 3px 1px rgba(60, 64, 67, 0.15);\n",
              "    fill: var(--button-hover-fill-color);\n",
              "  }\n",
              "\n",
              "  .colab-df-quickchart-complete:disabled,\n",
              "  .colab-df-quickchart-complete:disabled:hover {\n",
              "    background-color: var(--disabled-bg-color);\n",
              "    fill: var(--disabled-fill-color);\n",
              "    box-shadow: none;\n",
              "  }\n",
              "\n",
              "  .colab-df-spinner {\n",
              "    border: 2px solid var(--fill-color);\n",
              "    border-color: transparent;\n",
              "    border-bottom-color: var(--fill-color);\n",
              "    animation:\n",
              "      spin 1s steps(1) infinite;\n",
              "  }\n",
              "\n",
              "  @keyframes spin {\n",
              "    0% {\n",
              "      border-color: transparent;\n",
              "      border-bottom-color: var(--fill-color);\n",
              "      border-left-color: var(--fill-color);\n",
              "    }\n",
              "    20% {\n",
              "      border-color: transparent;\n",
              "      border-left-color: var(--fill-color);\n",
              "      border-top-color: var(--fill-color);\n",
              "    }\n",
              "    30% {\n",
              "      border-color: transparent;\n",
              "      border-left-color: var(--fill-color);\n",
              "      border-top-color: var(--fill-color);\n",
              "      border-right-color: var(--fill-color);\n",
              "    }\n",
              "    40% {\n",
              "      border-color: transparent;\n",
              "      border-right-color: var(--fill-color);\n",
              "      border-top-color: var(--fill-color);\n",
              "    }\n",
              "    60% {\n",
              "      border-color: transparent;\n",
              "      border-right-color: var(--fill-color);\n",
              "    }\n",
              "    80% {\n",
              "      border-color: transparent;\n",
              "      border-right-color: var(--fill-color);\n",
              "      border-bottom-color: var(--fill-color);\n",
              "    }\n",
              "    90% {\n",
              "      border-color: transparent;\n",
              "      border-bottom-color: var(--fill-color);\n",
              "    }\n",
              "  }\n",
              "</style>\n",
              "\n",
              "  <script>\n",
              "    async function quickchart(key) {\n",
              "      const quickchartButtonEl =\n",
              "        document.querySelector('#' + key + ' button');\n",
              "      quickchartButtonEl.disabled = true;  // To prevent multiple clicks.\n",
              "      quickchartButtonEl.classList.add('colab-df-spinner');\n",
              "      try {\n",
              "        const charts = await google.colab.kernel.invokeFunction(\n",
              "            'suggestCharts', [key], {});\n",
              "      } catch (error) {\n",
              "        console.error('Error during call to suggestCharts:', error);\n",
              "      }\n",
              "      quickchartButtonEl.classList.remove('colab-df-spinner');\n",
              "      quickchartButtonEl.classList.add('colab-df-quickchart-complete');\n",
              "    }\n",
              "    (() => {\n",
              "      let quickchartButtonEl =\n",
              "        document.querySelector('#df-c9c721e9-79ac-482f-836a-7668c64e50d2 button');\n",
              "      quickchartButtonEl.style.display =\n",
              "        google.colab.kernel.accessAllowed ? 'block' : 'none';\n",
              "    })();\n",
              "  </script>\n",
              "</div>\n",
              "\n",
              "    </div>\n",
              "  </div>\n"
            ],
            "application/vnd.google.colaboratory.intrinsic+json": {
              "type": "dataframe",
              "summary": "{\n  \"name\": \"data\",\n  \"rows\": 3,\n  \"fields\": [\n    {\n      \"column\": \"estadocivil\",\n      \"properties\": {\n        \"dtype\": \"string\",\n        \"num_unique_values\": 3,\n        \"samples\": [\n          \"casado\",\n          \"soltero\",\n          \"union_libre\"\n        ],\n        \"semantic_type\": \"\",\n        \"description\": \"\"\n      }\n    },\n    {\n      \"column\": \"ingresos\",\n      \"properties\": {\n        \"dtype\": \"number\",\n        \"std\": 1631.8829325283393,\n        \"min\": 15714.180858229223,\n        \"max\": 18787.794148116438,\n        \"num_unique_values\": 3,\n        \"samples\": [\n          18787.794148116438,\n          15714.180858229223,\n          18201.672374517377\n        ],\n        \"semantic_type\": \"\",\n        \"description\": \"\"\n      }\n    },\n    {\n      \"column\": \"lineasdevale\",\n      \"properties\": {\n        \"dtype\": \"number\",\n        \"std\": 0.32075392430334027,\n        \"min\": 1.5604890604890604,\n        \"max\": 2.200984589041096,\n        \"num_unique_values\": 3,\n        \"samples\": [\n          2.200984589041096,\n          1.8495382944052146,\n          1.5604890604890604\n        ],\n        \"semantic_type\": \"\",\n        \"description\": \"\"\n      }\n    },\n    {\n      \"column\": \"viviendavalor\",\n      \"properties\": {\n        \"dtype\": \"number\",\n        \"std\": 37989.73372885697,\n        \"min\": 428939.3993857021,\n        \"max\": 499986.338957529,\n        \"num_unique_values\": 3,\n        \"samples\": [\n          428939.3993857021,\n          441141.014839761,\n          499986.338957529\n        ],\n        \"semantic_type\": \"\",\n        \"description\": \"\"\n      }\n    },\n    {\n      \"column\": \"montosdelineas\",\n      \"properties\": {\n        \"dtype\": \"number\",\n        \"std\": 41419.901239670806,\n        \"min\": 111152.02082368084,\n        \"max\": 191901.28387289518,\n        \"num_unique_values\": 3,\n        \"samples\": [\n          167542.02133775686,\n          191901.28387289518,\n          111152.02082368084\n        ],\n        \"semantic_type\": \"\",\n        \"description\": \"\"\n      }\n    },\n    {\n      \"column\": \"dependientes\",\n      \"properties\": {\n        \"dtype\": \"number\",\n        \"std\": 0.27558839002399044,\n        \"min\": 2.4823465507876152,\n        \"max\": 3.0315315315315314,\n        \"num_unique_values\": 3,\n        \"samples\": [\n          2.7163955479452055,\n          2.4823465507876152,\n          3.0315315315315314\n        ],\n        \"semantic_type\": \"\",\n        \"description\": \"\"\n      }\n    },\n    {\n      \"column\": \"Age\",\n      \"properties\": {\n        \"dtype\": \"number\",\n        \"std\": 2.131378458466879,\n        \"min\": 44.30501930501931,\n        \"max\": 48.03693644758283,\n        \"num_unique_values\": 3,\n        \"samples\": [\n          47.955051369863014,\n          48.03693644758283,\n          44.30501930501931\n        ],\n        \"semantic_type\": \"\",\n        \"description\": \"\"\n      }\n    },\n    {\n      \"column\": \"default\",\n      \"properties\": {\n        \"dtype\": \"number\",\n        \"std\": 0.02392997375776981,\n        \"min\": 0.2367294520547945,\n        \"max\": 0.28442728442728443,\n        \"num_unique_values\": 3,\n        \"samples\": [\n          0.2367294520547945,\n          0.26398696360673546,\n          0.28442728442728443\n        ],\n        \"semantic_type\": \"\",\n        \"description\": \"\"\n      }\n    }\n  ]\n}"
            }
          },
          "metadata": {},
          "execution_count": 23
        }
      ]
    },
    {
      "cell_type": "code",
      "source": [
        "%matplotlib inline\n",
        "pd.crosstab(data.estadocivil,data.default).plot(kind='bar')\n",
        "plt.title('Frecuencia de Buen Pagador')\n",
        "plt.xlabel('Estado Civil')\n",
        "plt.ylabel('Frequencia de Buen Pagador')\n",
        "plt.savefig('approval_freq')"
      ],
      "metadata": {
        "colab": {
          "base_uri": "https://localhost:8080/",
          "height": 549
        },
        "id": "HcHFf6FtCJwN",
        "outputId": "35776ad2-edbd-4237-b67a-33cdc61062a1"
      },
      "execution_count": null,
      "outputs": [
        {
          "output_type": "display_data",
          "data": {
            "text/plain": [
              "<Figure size 640x480 with 1 Axes>"
            ],
            "image/png": "[encoded data removed]"
          },
          "metadata": {}
        }
      ]
    },
    {
      "cell_type": "code",
      "source": [
        "data.Age.hist()\n",
        "plt.title('Histogram of Age')\n",
        "plt.xlabel('Edad')\n",
        "plt.ylabel('Frecuencia')\n",
        "plt.savefig('hist_age')"
      ],
      "metadata": {
        "colab": {
          "base_uri": "https://localhost:8080/",
          "height": 480
        },
        "id": "vUuN1B7ZDTr9",
        "outputId": "08803aae-a2a4-4f49-9559-3a181cbf4b0d"
      },
      "execution_count": null,
      "outputs": [
        {
          "output_type": "display_data",
          "data": {
            "text/plain": [
              "<Figure size 640x480 with 1 Axes>"
            ],
            "image/png": "[encoded data removed]"
          },
          "metadata": {}
        }
      ]
    },
    {
      "cell_type": "code",
      "source": [
        "table=pd.crosstab(data.viviendatipo,data.default)\n",
        "table.div(table.sum(1).astype(float), axis=0).plot(kind='bar', stacked=True)\n",
        "plt.title('Stacked Bar Chart de Tipo de Vivienda vs. Tipo Pagador')\n",
        "plt.xlabel('Tipo de Vivienda')\n",
        "plt.ylabel('Proporcion de Pagadores')\n",
        "plt.savefig('vivienda_prop_stack')"
      ],
      "metadata": {
        "colab": {
          "base_uri": "https://localhost:8080/",
          "height": 523
        },
        "id": "Jjp6dC0ZD1fc",
        "outputId": "437f0f10-815f-42e6-92ee-21797164699b"
      },
      "execution_count": null,
      "outputs": [
        {
          "output_type": "display_data",
          "data": {
            "text/plain": [
              "<Figure size 640x480 with 1 Axes>"
            ],
            "image/png": "[encoded data removed]"
          },
          "metadata": {}
        }
      ]
    },
    {
      "cell_type": "code",
      "source": [
        "data_encoded = pd.get_dummies(data, columns=['viviendatipo', 'estadocivil'], dtype=int)\n",
        "print(data_encoded)"
      ],
      "metadata": {
        "colab": {
          "base_uri": "https://localhost:8080/"
        },
        "id": "b7aXKUVu0ubl",
        "outputId": "b2417a79-664b-4ed6-9d00-beb0db82ef01"
      },
      "execution_count": null,
      "outputs": [
        {
          "output_type": "stream",
          "name": "stdout",
          "text": [
            "      cliente  oficina  ingresos  viviendavalor  lineasdevale  montosdelineas  \\\n",
            "0     1000181       10   11099.0       700000.0             1         42000.0   \n",
            "1     1000276       10   31000.0       250000.0             1         55000.0   \n",
            "2     1000329       10   46000.0       200000.0             0             0.0   \n",
            "3     1000885       10    4862.0       350000.0             0             0.0   \n",
            "4     1000903       10   22000.0        55000.0             2         91476.0   \n",
            "...       ...      ...       ...            ...           ...             ...   \n",
            "8139   823932        8   24000.0       580000.0             0             0.0   \n",
            "8140   824009        8   18400.0       800000.0             5        363453.0   \n",
            "8141   824025        8   21176.0       800000.0             1         84337.0   \n",
            "8142   824043        8   10404.0       800000.0             4        169502.0   \n",
            "8143   824072        8   23862.0      1500000.0             0             0.0   \n",
            "\n",
            "      dependientes  fechanacimiento  default  Age  viviendatipo_familiar  \\\n",
            "0                2         20151007        1    9                      0   \n",
            "1                1         19701019        0   54                      1   \n",
            "2                2         19730920        0   51                      1   \n",
            "3                2         19800914        1   44                      0   \n",
            "4                3         19761010        1   48                      1   \n",
            "...            ...              ...      ...  ...                    ...   \n",
            "8139             1         19700331        0   54                      1   \n",
            "8140             1         19770403        0   47                      1   \n",
            "8141             2         19720723        1   52                      1   \n",
            "8142             3         19851231        1   39                      1   \n",
            "8143             2         19970917        1   27                      1   \n",
            "\n",
            "      viviendatipo_propia  estadocivil_casado  estadocivil_soltero  \\\n",
            "0                       1                   0                    1   \n",
            "1                       0                   1                    0   \n",
            "2                       0                   1                    0   \n",
            "3                       1                   1                    0   \n",
            "4                       0                   1                    0   \n",
            "...                   ...                 ...                  ...   \n",
            "8139                    0                   1                    0   \n",
            "8140                    0                   0                    1   \n",
            "8141                    0                   1                    0   \n",
            "8142                    0                   0                    1   \n",
            "8143                    0                   1                    0   \n",
            "\n",
            "      estadocivil_union_libre  \n",
            "0                           0  \n",
            "1                           0  \n",
            "2                           0  \n",
            "3                           0  \n",
            "4                           0  \n",
            "...                       ...  \n",
            "8139                        0  \n",
            "8140                        0  \n",
            "8141                        0  \n",
            "8142                        0  \n",
            "8143                        0  \n",
            "\n",
            "[8067 rows x 15 columns]\n"
          ]
        }
      ]
    },
    {
      "cell_type": "code",
      "source": [
        "data_encoded.columns.values"
      ],
      "metadata": {
        "colab": {
          "base_uri": "https://localhost:8080/"
        },
        "id": "CTRE5atq5Qb_",
        "outputId": "9981a673-dd8b-4ae3-c433-88e4b171ffb6"
      },
      "execution_count": null,
      "outputs": [
        {
          "output_type": "execute_result",
          "data": {
            "text/plain": [
              "array(['cliente', 'oficina', 'ingresos', 'viviendavalor', 'lineasdevale',\n",
              "       'montosdelineas', 'dependientes', 'fechanacimiento', 'default',\n",
              "       'Age', 'viviendatipo_familiar', 'viviendatipo_propia',\n",
              "       'estadocivil_casado', 'estadocivil_soltero',\n",
              "       'estadocivil_union_libre'], dtype=object)"
            ]
          },
          "metadata": {},
          "execution_count": 28
        }
      ]
    },
    {
      "cell_type": "code",
      "source": [
        "new_data = data_encoded.drop(columns=['cliente', 'fechanacimiento'])\n",
        "new_data.head()"
      ],
      "metadata": {
        "colab": {
          "base_uri": "https://localhost:8080/",
          "height": 226
        },
        "id": "nyJx_C-WNq6y",
        "outputId": "933395b7-2b25-4f0b-bcb4-9b1877af7570"
      },
      "execution_count": null,
      "outputs": [
        {
          "output_type": "execute_result",
          "data": {
            "text/plain": [
              "   oficina  ingresos  viviendavalor  lineasdevale  montosdelineas  \\\n",
              "0       10   11099.0       700000.0             1         42000.0   \n",
              "1       10   31000.0       250000.0             1         55000.0   \n",
              "2       10   46000.0       200000.0             0             0.0   \n",
              "3       10    4862.0       350000.0             0             0.0   \n",
              "4       10   22000.0        55000.0             2         91476.0   \n",
              "\n",
              "   dependientes  default  Age  viviendatipo_familiar  viviendatipo_propia  \\\n",
              "0             2        1    9                      0                    1   \n",
              "1             1        0   54                      1                    0   \n",
              "2             2        0   51                      1                    0   \n",
              "3             2        1   44                      0                    1   \n",
              "4             3        1   48                      1                    0   \n",
              "\n",
              "   estadocivil_casado  estadocivil_soltero  estadocivil_union_libre  \n",
              "0                   0                    1                        0  \n",
              "1                   1                    0                        0  \n",
              "2                   1                    0                        0  \n",
              "3                   1                    0                        0  \n",
              "4                   1                    0                        0  "
            ],
            "text/html": [
              "\n",
              "  <div id=\"df-7dd4d1c6-e6d3-48ba-b54b-ecd3b8b2b1cf\" class=\"colab-df-container\">\n",
              "    <div>\n",
              "<style scoped>\n",
              "    .dataframe tbody tr th:only-of-type {\n",
              "        vertical-align: middle;\n",
              "    }\n",
              "\n",
              "    .dataframe tbody tr th {\n",
              "        vertical-align: top;\n",
              "    }\n",
              "\n",
              "    .dataframe thead th {\n",
              "        text-align: right;\n",
              "    }\n",
              "</style>\n",
              "<table border=\"1\" class=\"dataframe\">\n",
              "  <thead>\n",
              "    <tr style=\"text-align: right;\">\n",
              "      <th></th>\n",
              "      <th>oficina</th>\n",
              "      <th>ingresos</th>\n",
              "      <th>viviendavalor</th>\n",
              "      <th>lineasdevale</th>\n",
              "      <th>montosdelineas</th>\n",
              "      <th>dependientes</th>\n",
              "      <th>default</th>\n",
              "      <th>Age</th>\n",
              "      <th>viviendatipo_familiar</th>\n",
              "      <th>viviendatipo_propia</th>\n",
              "      <th>estadocivil_casado</th>\n",
              "      <th>estadocivil_soltero</th>\n",
              "      <th>estadocivil_union_libre</th>\n",
              "    </tr>\n",
              "  </thead>\n",
              "  <tbody>\n",
              "    <tr>\n",
              "      <th>0</th>\n",
              "      <td>10</td>\n",
              "      <td>11099.0</td>\n",
              "      <td>700000.0</td>\n",
              "      <td>1</td>\n",
              "      <td>42000.0</td>\n",
              "      <td>2</td>\n",
              "      <td>1</td>\n",
              "      <td>9</td>\n",
              "      <td>0</td>\n",
              "      <td>1</td>\n",
              "      <td>0</td>\n",
              "      <td>1</td>\n",
              "      <td>0</td>\n",
              "    </tr>\n",
              "    <tr>\n",
              "      <th>1</th>\n",
              "      <td>10</td>\n",
              "      <td>31000.0</td>\n",
              "      <td>250000.0</td>\n",
              "      <td>1</td>\n",
              "      <td>55000.0</td>\n",
              "      <td>1</td>\n",
              "      <td>0</td>\n",
              "      <td>54</td>\n",
              "      <td>1</td>\n",
              "      <td>0</td>\n",
              "      <td>1</td>\n",
              "      <td>0</td>\n",
              "      <td>0</td>\n",
              "    </tr>\n",
              "    <tr>\n",
              "      <th>2</th>\n",
              "      <td>10</td>\n",
              "      <td>46000.0</td>\n",
              "      <td>200000.0</td>\n",
              "      <td>0</td>\n",
              "      <td>0.0</td>\n",
              "      <td>2</td>\n",
              "      <td>0</td>\n",
              "      <td>51</td>\n",
              "      <td>1</td>\n",
              "      <td>0</td>\n",
              "      <td>1</td>\n",
              "      <td>0</td>\n",
              "      <td>0</td>\n",
              "    </tr>\n",
              "    <tr>\n",
              "      <th>3</th>\n",
              "      <td>10</td>\n",
              "      <td>4862.0</td>\n",
              "      <td>350000.0</td>\n",
              "      <td>0</td>\n",
              "      <td>0.0</td>\n",
              "      <td>2</td>\n",
              "      <td>1</td>\n",
              "      <td>44</td>\n",
              "      <td>0</td>\n",
              "      <td>1</td>\n",
              "      <td>1</td>\n",
              "      <td>0</td>\n",
              "      <td>0</td>\n",
              "    </tr>\n",
              "    <tr>\n",
              "      <th>4</th>\n",
              "      <td>10</td>\n",
              "      <td>22000.0</td>\n",
              "      <td>55000.0</td>\n",
              "      <td>2</td>\n",
              "      <td>91476.0</td>\n",
              "      <td>3</td>\n",
              "      <td>1</td>\n",
              "      <td>48</td>\n",
              "      <td>1</td>\n",
              "      <td>0</td>\n",
              "      <td>1</td>\n",
              "      <td>0</td>\n",
              "      <td>0</td>\n",
              "    </tr>\n",
              "  </tbody>\n",
              "</table>\n",
              "</div>\n",
              "    <div class=\"colab-df-buttons\">\n",
              "\n",
              "  <div class=\"colab-df-container\">\n",
              "    <button class=\"colab-df-convert\" onclick=\"convertToInteractive('df-7dd4d1c6-e6d3-48ba-b54b-ecd3b8b2b1cf')\"\n",
              "            title=\"Convert this dataframe to an interactive table.\"\n",
              "            style=\"display:none;\">\n",
              "\n",
              "  <svg xmlns=\"http://www.w3.org/2000/svg\" height=\"24px\" viewBox=\"0 -960 960 960\">\n",
              "    <path d=\"M120-120v-720h720v720H120Zm60-500h600v-160H180v160Zm220 220h160v-160H400v160Zm0 220h160v-160H400v160ZM180-400h160v-160H180v160Zm440 0h160v-160H620v160ZM180-180h160v-160H180v160Zm440 0h160v-160H620v160Z\"/>\n",
              "  </svg>\n",
              "    </button>\n",
              "\n",
              "  <style>\n",
              "    .colab-df-container {\n",
              "      display:flex;\n",
              "      gap: 12px;\n",
              "    }\n",
              "\n",
              "    .colab-df-convert {\n",
              "      background-color: #E8F0FE;\n",
              "      border: none;\n",
              "      border-radius: 50%;\n",
              "      cursor: pointer;\n",
              "      display: none;\n",
              "      fill: #1967D2;\n",
              "      height: 32px;\n",
              "      padding: 0 0 0 0;\n",
              "      width: 32px;\n",
              "    }\n",
              "\n",
              "    .colab-df-convert:hover {\n",
              "      background-color: #E2EBFA;\n",
              "      box-shadow: 0px 1px 2px rgba(60, 64, 67, 0.3), 0px 1px 3px 1px rgba(60, 64, 67, 0.15);\n",
              "      fill: #174EA6;\n",
              "    }\n",
              "\n",
              "    .colab-df-buttons div {\n",
              "      margin-bottom: 4px;\n",
              "    }\n",
              "\n",
              "    [theme=dark] .colab-df-convert {\n",
              "      background-color: #3B4455;\n",
              "      fill: #D2E3FC;\n",
              "    }\n",
              "\n",
              "    [theme=dark] .colab-df-convert:hover {\n",
              "      background-color: #434B5C;\n",
              "      box-shadow: 0px 1px 3px 1px rgba(0, 0, 0, 0.15);\n",
              "      filter: drop-shadow(0px 1px 2px rgba(0, 0, 0, 0.3));\n",
              "      fill: #FFFFFF;\n",
              "    }\n",
              "  </style>\n",
              "\n",
              "    <script>\n",
              "      const buttonEl =\n",
              "        document.querySelector('#df-7dd4d1c6-e6d3-48ba-b54b-ecd3b8b2b1cf button.colab-df-convert');\n",
              "      buttonEl.style.display =\n",
              "        google.colab.kernel.accessAllowed ? 'block' : 'none';\n",
              "\n",
              "      async function convertToInteractive(key) {\n",
              "        const element = document.querySelector('#df-7dd4d1c6-e6d3-48ba-b54b-ecd3b8b2b1cf');\n",
              "        const dataTable =\n",
              "          await google.colab.kernel.invokeFunction('convertToInteractive',\n",
              "                                                    [key], {});\n",
              "        if (!dataTable) return;\n",
              "\n",
              "        const docLinkHtml = 'Like what you see? Visit the ' +\n",
              "          '<a target=\"_blank\" href=https://colab.research.google.com/notebooks/data_table.ipynb>data table notebook</a>'\n",
              "          + ' to learn more about interactive tables.';\n",
              "        element.innerHTML = '';\n",
              "        dataTable['output_type'] = 'display_data';\n",
              "        await google.colab.output.renderOutput(dataTable, element);\n",
              "        const docLink = document.createElement('div');\n",
              "        docLink.innerHTML = docLinkHtml;\n",
              "        element.appendChild(docLink);\n",
              "      }\n",
              "    </script>\n",
              "  </div>\n",
              "\n",
              "\n",
              "<div id=\"df-fd19ae08-4a08-4fef-a292-d31eaa591f3c\">\n",
              "  <button class=\"colab-df-quickchart\" onclick=\"quickchart('df-fd19ae08-4a08-4fef-a292-d31eaa591f3c')\"\n",
              "            title=\"Suggest charts\"\n",
              "            style=\"display:none;\">\n",
              "\n",
              "<svg xmlns=\"http://www.w3.org/2000/svg\" height=\"24px\"viewBox=\"0 0 24 24\"\n",
              "     width=\"24px\">\n",
              "    <g>\n",
              "        <path d=\"M19 3H5c-1.1 0-2 .9-2 2v14c0 1.1.9 2 2 2h14c1.1 0 2-.9 2-2V5c0-1.1-.9-2-2-2zM9 17H7v-7h2v7zm4 0h-2V7h2v10zm4 0h-2v-4h2v4z\"/>\n",
              "    </g>\n",
              "</svg>\n",
              "  </button>\n",
              "\n",
              "<style>\n",
              "  .colab-df-quickchart {\n",
              "      --bg-color: #E8F0FE;\n",
              "      --fill-color: #1967D2;\n",
              "      --hover-bg-color: #E2EBFA;\n",
              "      --hover-fill-color: #174EA6;\n",
              "      --disabled-fill-color: #AAA;\n",
              "      --disabled-bg-color: #DDD;\n",
              "  }\n",
              "\n",
              "  [theme=dark] .colab-df-quickchart {\n",
              "      --bg-color: #3B4455;\n",
              "      --fill-color: #D2E3FC;\n",
              "      --hover-bg-color: #434B5C;\n",
              "      --hover-fill-color: #FFFFFF;\n",
              "      --disabled-bg-color: #3B4455;\n",
              "      --disabled-fill-color: #666;\n",
              "  }\n",
              "\n",
              "  .colab-df-quickchart {\n",
              "    background-color: var(--bg-color);\n",
              "    border: none;\n",
              "    border-radius: 50%;\n",
              "    cursor: pointer;\n",
              "    display: none;\n",
              "    fill: var(--fill-color);\n",
              "    height: 32px;\n",
              "    padding: 0;\n",
              "    width: 32px;\n",
              "  }\n",
              "\n",
              "  .colab-df-quickchart:hover {\n",
              "    background-color: var(--hover-bg-color);\n",
              "    box-shadow: 0 1px 2px rgba(60, 64, 67, 0.3), 0 1px 3px 1px rgba(60, 64, 67, 0.15);\n",
              "    fill: var(--button-hover-fill-color);\n",
              "  }\n",
              "\n",
              "  .colab-df-quickchart-complete:disabled,\n",
              "  .colab-df-quickchart-complete:disabled:hover {\n",
              "    background-color: var(--disabled-bg-color);\n",
              "    fill: var(--disabled-fill-color);\n",
              "    box-shadow: none;\n",
              "  }\n",
              "\n",
              "  .colab-df-spinner {\n",
              "    border: 2px solid var(--fill-color);\n",
              "    border-color: transparent;\n",
              "    border-bottom-color: var(--fill-color);\n",
              "    animation:\n",
              "      spin 1s steps(1) infinite;\n",
              "  }\n",
              "\n",
              "  @keyframes spin {\n",
              "    0% {\n",
              "      border-color: transparent;\n",
              "      border-bottom-color: var(--fill-color);\n",
              "      border-left-color: var(--fill-color);\n",
              "    }\n",
              "    20% {\n",
              "      border-color: transparent;\n",
              "      border-left-color: var(--fill-color);\n",
              "      border-top-color: var(--fill-color);\n",
              "    }\n",
              "    30% {\n",
              "      border-color: transparent;\n",
              "      border-left-color: var(--fill-color);\n",
              "      border-top-color: var(--fill-color);\n",
              "      border-right-color: var(--fill-color);\n",
              "    }\n",
              "    40% {\n",
              "      border-color: transparent;\n",
              "      border-right-color: var(--fill-color);\n",
              "      border-top-color: var(--fill-color);\n",
              "    }\n",
              "    60% {\n",
              "      border-color: transparent;\n",
              "      border-right-color: var(--fill-color);\n",
              "    }\n",
              "    80% {\n",
              "      border-color: transparent;\n",
              "      border-right-color: var(--fill-color);\n",
              "      border-bottom-color: var(--fill-color);\n",
              "    }\n",
              "    90% {\n",
              "      border-color: transparent;\n",
              "      border-bottom-color: var(--fill-color);\n",
              "    }\n",
              "  }\n",
              "</style>\n",
              "\n",
              "  <script>\n",
              "    async function quickchart(key) {\n",
              "      const quickchartButtonEl =\n",
              "        document.querySelector('#' + key + ' button');\n",
              "      quickchartButtonEl.disabled = true;  // To prevent multiple clicks.\n",
              "      quickchartButtonEl.classList.add('colab-df-spinner');\n",
              "      try {\n",
              "        const charts = await google.colab.kernel.invokeFunction(\n",
              "            'suggestCharts', [key], {});\n",
              "      } catch (error) {\n",
              "        console.error('Error during call to suggestCharts:', error);\n",
              "      }\n",
              "      quickchartButtonEl.classList.remove('colab-df-spinner');\n",
              "      quickchartButtonEl.classList.add('colab-df-quickchart-complete');\n",
              "    }\n",
              "    (() => {\n",
              "      let quickchartButtonEl =\n",
              "        document.querySelector('#df-fd19ae08-4a08-4fef-a292-d31eaa591f3c button');\n",
              "      quickchartButtonEl.style.display =\n",
              "        google.colab.kernel.accessAllowed ? 'block' : 'none';\n",
              "    })();\n",
              "  </script>\n",
              "</div>\n",
              "\n",
              "    </div>\n",
              "  </div>\n"
            ],
            "application/vnd.google.colaboratory.intrinsic+json": {
              "type": "dataframe",
              "variable_name": "new_data",
              "summary": "{\n  \"name\": \"new_data\",\n  \"rows\": 8067,\n  \"fields\": [\n    {\n      \"column\": \"oficina\",\n      \"properties\": {\n        \"dtype\": \"number\",\n        \"std\": 13,\n        \"min\": 2,\n        \"max\": 59,\n        \"num_unique_values\": 44,\n        \"samples\": [\n          38,\n          40,\n          27\n        ],\n        \"semantic_type\": \"\",\n        \"description\": \"\"\n      }\n    },\n    {\n      \"column\": \"ingresos\",\n      \"properties\": {\n        \"dtype\": \"number\",\n        \"std\": 14622.973348750307,\n        \"min\": -100.0,\n        \"max\": 74466.0,\n        \"num_unique_values\": 1570,\n        \"samples\": [\n          19440.0,\n          42065.0,\n          7500.0\n        ],\n        \"semantic_type\": \"\",\n        \"description\": \"\"\n      }\n    },\n    {\n      \"column\": \"viviendavalor\",\n      \"properties\": {\n        \"dtype\": \"number\",\n        \"std\": 1719135.1659616886,\n        \"min\": 0.0,\n        \"max\": 150200000.0,\n        \"num_unique_values\": 391,\n        \"samples\": [\n          1000000.0,\n          650000.0,\n          3000000.0\n        ],\n        \"semantic_type\": \"\",\n        \"description\": \"\"\n      }\n    },\n    {\n      \"column\": \"lineasdevale\",\n      \"properties\": {\n        \"dtype\": \"number\",\n        \"std\": 2,\n        \"min\": 0,\n        \"max\": 14,\n        \"num_unique_values\": 15,\n        \"samples\": [\n          10,\n          9,\n          1\n        ],\n        \"semantic_type\": \"\",\n        \"description\": \"\"\n      }\n    },\n    {\n      \"column\": \"montosdelineas\",\n      \"properties\": {\n        \"dtype\": \"number\",\n        \"std\": 1085633.8670633945,\n        \"min\": 0.0,\n        \"max\": 92210000.0,\n        \"num_unique_values\": 3436,\n        \"samples\": [\n          36994.0,\n          409661.0,\n          375062.67\n        ],\n        \"semantic_type\": \"\",\n        \"description\": \"\"\n      }\n    },\n    {\n      \"column\": \"dependientes\",\n      \"properties\": {\n        \"dtype\": \"number\",\n        \"std\": 33,\n        \"min\": 0,\n        \"max\": 1000,\n        \"num_unique_values\": 10,\n        \"samples\": [\n          8,\n          1,\n          1000\n        ],\n        \"semantic_type\": \"\",\n        \"description\": \"\"\n      }\n    },\n    {\n      \"column\": \"default\",\n      \"properties\": {\n        \"dtype\": \"number\",\n        \"std\": 0,\n        \"min\": 0,\n        \"max\": 1,\n        \"num_unique_values\": 2,\n        \"samples\": [\n          0,\n          1\n        ],\n        \"semantic_type\": \"\",\n        \"description\": \"\"\n      }\n    },\n    {\n      \"column\": \"Age\",\n      \"properties\": {\n        \"dtype\": \"number\",\n        \"std\": 10,\n        \"min\": 4,\n        \"max\": 124,\n        \"num_unique_values\": 55,\n        \"samples\": [\n          39,\n          32\n        ],\n        \"semantic_type\": \"\",\n        \"description\": \"\"\n      }\n    },\n    {\n      \"column\": \"viviendatipo_familiar\",\n      \"properties\": {\n        \"dtype\": \"number\",\n        \"std\": 0,\n        \"min\": 0,\n        \"max\": 1,\n        \"num_unique_values\": 2,\n        \"samples\": [\n          1,\n          0\n        ],\n        \"semantic_type\": \"\",\n        \"description\": \"\"\n      }\n    },\n    {\n      \"column\": \"viviendatipo_propia\",\n      \"properties\": {\n        \"dtype\": \"number\",\n        \"std\": 0,\n        \"min\": 0,\n        \"max\": 1,\n        \"num_unique_values\": 2,\n        \"samples\": [\n          0,\n          1\n        ],\n        \"semantic_type\": \"\",\n        \"description\": \"\"\n      }\n    },\n    {\n      \"column\": \"estadocivil_casado\",\n      \"properties\": {\n        \"dtype\": \"number\",\n        \"std\": 0,\n        \"min\": 0,\n        \"max\": 1,\n        \"num_unique_values\": 2,\n        \"samples\": [\n          1,\n          0\n        ],\n        \"semantic_type\": \"\",\n        \"description\": \"\"\n      }\n    },\n    {\n      \"column\": \"estadocivil_soltero\",\n      \"properties\": {\n        \"dtype\": \"number\",\n        \"std\": 0,\n        \"min\": 0,\n        \"max\": 1,\n        \"num_unique_values\": 2,\n        \"samples\": [\n          0,\n          1\n        ],\n        \"semantic_type\": \"\",\n        \"description\": \"\"\n      }\n    },\n    {\n      \"column\": \"estadocivil_union_libre\",\n      \"properties\": {\n        \"dtype\": \"number\",\n        \"std\": 0,\n        \"min\": 0,\n        \"max\": 1,\n        \"num_unique_values\": 2,\n        \"samples\": [\n          1,\n          0\n        ],\n        \"semantic_type\": \"\",\n        \"description\": \"\"\n      }\n    }\n  ]\n}"
            }
          },
          "metadata": {},
          "execution_count": 29
        }
      ]
    },
    {
      "cell_type": "code",
      "source": [
        "y = new_data.pop('default')\n",
        "X = new_data\n",
        "X_train, X_test, y_train, y_test = train_test_split(X, y, random_state=42, train_size=0.8)\n",
        "print('tamaño de entrenamiento: ', X_train.shape)\n",
        "print('tamaño de entrenamiento: ', y_train.shape)\n",
        "print('tamaño de prueba: ', X_test.shape)\n",
        "print('tamaño de prueba: ', y_test.shape)"
      ],
      "metadata": {
        "colab": {
          "base_uri": "https://localhost:8080/"
        },
        "id": "QIkdcqc56isE",
        "outputId": "2b5663f9-40d2-42d6-aa86-83124b283df5"
      },
      "execution_count": null,
      "outputs": [
        {
          "output_type": "stream",
          "name": "stdout",
          "text": [
            "tamaño de entrenamiento:  (6453, 12)\n",
            "tamaño de entrenamiento:  (6453,)\n",
            "tamaño de prueba:  (1614, 12)\n",
            "tamaño de prueba:  (1614,)\n"
          ]
        }
      ]
    },
    {
      "cell_type": "code",
      "source": [
        "scale = StandardScaler()\n",
        "X_train = scale.fit_transform(X_train)\n",
        "X_test = scale.transform(X_test)"
      ],
      "metadata": {
        "id": "yn4sTG6w8O62"
      },
      "execution_count": null,
      "outputs": []
    },
    {
      "cell_type": "code",
      "source": [
        "y_train.value_counts(normalize=True)"
      ],
      "metadata": {
        "colab": {
          "base_uri": "https://localhost:8080/"
        },
        "id": "dk6qWHAM8pdE",
        "outputId": "806982c5-2bfd-460e-f35a-f282f31ee4dd"
      },
      "execution_count": null,
      "outputs": [
        {
          "output_type": "execute_result",
          "data": {
            "text/plain": [
              "default\n",
              "0    0.751588\n",
              "1    0.248412\n",
              "Name: proportion, dtype: float64"
            ]
          },
          "metadata": {},
          "execution_count": 32
        }
      ]
    },
    {
      "cell_type": "code",
      "source": [
        "lr_basemodel = LogisticRegression(class_weight={0:0.1, 1:0.9})\n",
        "lr_basemodel.fit(X_train, y_train)\n",
        "y_pred_basemodel = lr_basemodel.predict(X_test)"
      ],
      "metadata": {
        "id": "VH46EQ7P9Pi0"
      },
      "execution_count": null,
      "outputs": []
    },
    {
      "cell_type": "code",
      "source": [
        "print(\"f1 score for base model is : \" , f1_score(y_test,y_pred_basemodel))"
      ],
      "metadata": {
        "colab": {
          "base_uri": "https://localhost:8080/"
        },
        "id": "Ec4LqnEs-Uzo",
        "outputId": "088ca49e-f3bf-43be-b0a0-e7f7b9566efa"
      },
      "execution_count": null,
      "outputs": [
        {
          "output_type": "stream",
          "name": "stdout",
          "text": [
            "f1 score for base model is :  0.42322834645669294\n"
          ]
        }
      ]
    },
    {
      "cell_type": "code",
      "source": [
        "lr=LogisticRegression()\n",
        "weights = np.linspace(0.0,0.99,500)\n",
        "param= {'C': [0.1, 0.5, 1,10,15,20], 'penalty': ['l1', 'l2'],\"class_weight\":[{0:x ,1:1.0 -x} for x in weights]}\n",
        "folds = StratifiedKFold(n_splits = 5, shuffle = True, random_state = 42)\n",
        "model= GridSearchCV(estimator= lr,param_grid=param,scoring=\"f1\",cv=folds,return_train_score=True)\n",
        "model.fit(X_train,y_train)"
      ],
      "metadata": {
        "colab": {
          "base_uri": "https://localhost:8080/",
          "height": 518
        },
        "id": "Jk6HGKMtpvhH",
        "outputId": "39362918-b65d-445c-997f-fb28adb8b3a4"
      },
      "execution_count": null,
      "outputs": [
        {
          "output_type": "stream",
          "name": "stderr",
          "text": [
            "/usr/local/lib/python3.10/dist-packages/sklearn/model_selection/_validation.py:378: FitFailedWarning: \n",
            "15000 fits failed out of a total of 30000.\n",
            "The score on these train-test partitions for these parameters will be set to nan.\n",
            "If these failures are not expected, you can try to debug them by setting error_score='raise'.\n",
            "\n",
            "Below are more details about the failures:\n",
            "--------------------------------------------------------------------------------\n",
            "15000 fits failed with the following error:\n",
            "Traceback (most recent call last):\n",
            "  File \"/usr/local/lib/python3.10/dist-packages/sklearn/model_selection/_validation.py\", line 686, in _fit_and_score\n",
            "    estimator.fit(X_train, y_train, **fit_params)\n",
            "  File \"/usr/local/lib/python3.10/dist-packages/sklearn/linear_model/_logistic.py\", line 1162, in fit\n",
            "    solver = _check_solver(self.solver, self.penalty, self.dual)\n",
            "  File \"/usr/local/lib/python3.10/dist-packages/sklearn/linear_model/_logistic.py\", line 54, in _check_solver\n",
            "    raise ValueError(\n",
            "ValueError: Solver lbfgs supports only 'l2' or 'none' penalties, got l1 penalty.\n",
            "\n",
            "  warnings.warn(some_fits_failed_message, FitFailedWarning)\n",
            "/usr/local/lib/python3.10/dist-packages/sklearn/model_selection/_search.py:952: UserWarning: One or more of the test scores are non-finite: [       nan 0.39796403        nan ... 0.                nan 0.        ]\n",
            "  warnings.warn(\n",
            "/usr/local/lib/python3.10/dist-packages/sklearn/model_selection/_search.py:952: UserWarning: One or more of the train scores are non-finite: [       nan 0.39796424        nan ... 0.                nan 0.        ]\n",
            "  warnings.warn(\n"
          ]
        },
        {
          "output_type": "execute_result",
          "data": {
            "text/plain": [
              "GridSearchCV(cv=StratifiedKFold(n_splits=5, random_state=42, shuffle=True),\n",
              "             estimator=LogisticRegression(),\n",
              "             param_grid={'C': [0.1, 0.5, 1, 10, 15, 20],\n",
              "                         'class_weight': [{0: 0.0, 1: 1.0},\n",
              "                                          {0: 0.0019839679358717435,\n",
              "                                           1: 0.9980160320641283},\n",
              "                                          {0: 0.003967935871743487,\n",
              "                                           1: 0.9960320641282565},\n",
              "                                          {0: 0.0059519038076152305,\n",
              "                                           1: 0.9940480961923848},\n",
              "                                          {0: 0.007935871743486974,\n",
              "                                           1: 0.99206412825...\n",
              "                                           1: 0.9543687374749499},\n",
              "                                          {0: 0.047615230460921844,\n",
              "                                           1: 0.9523847695390781},\n",
              "                                          {0: 0.04959919839679359,\n",
              "                                           1: 0.9504008016032064},\n",
              "                                          {0: 0.05158316633266533,\n",
              "                                           1: 0.9484168336673346},\n",
              "                                          {0: 0.05356713426853708,\n",
              "                                           1: 0.9464328657314629},\n",
              "                                          {0: 0.055551102204408814,\n",
              "                                           1: 0.9444488977955912},\n",
              "                                          {0: 0.05753507014028056,\n",
              "                                           1: 0.9424649298597194}, ...],\n",
              "                         'penalty': ['l1', 'l2']},\n",
              "             return_train_score=True, scoring='f1')"
            ],
            "text/html": [
              "<style>#sk-container-id-1 {color: black;background-color: white;}#sk-container-id-1 pre{padding: 0;}#sk-container-id-1 div.sk-toggleable {background-color: white;}#sk-container-id-1 label.sk-toggleable__label {cursor: pointer;display: block;width: 100%;margin-bottom: 0;padding: 0.3em;box-sizing: border-box;text-align: center;}#sk-container-id-1 label.sk-toggleable__label-arrow:before {content: \"▸\";float: left;margin-right: 0.25em;color: #696969;}#sk-container-id-1 label.sk-toggleable__label-arrow:hover:before {color: black;}#sk-container-id-1 div.sk-estimator:hover label.sk-toggleable__label-arrow:before {color: black;}#sk-container-id-1 div.sk-toggleable__content {max-height: 0;max-width: 0;overflow: hidden;text-align: left;background-color: #f0f8ff;}#sk-container-id-1 div.sk-toggleable__content pre {margin: 0.2em;color: black;border-radius: 0.25em;background-color: #f0f8ff;}#sk-container-id-1 input.sk-toggleable__control:checked~div.sk-toggleable__content {max-height: 200px;max-width: 100%;overflow: auto;}#sk-container-id-1 input.sk-toggleable__control:checked~label.sk-toggleable__label-arrow:before {content: \"▾\";}#sk-container-id-1 div.sk-estimator input.sk-toggleable__control:checked~label.sk-toggleable__label {background-color: #d4ebff;}#sk-container-id-1 div.sk-label input.sk-toggleable__control:checked~label.sk-toggleable__label {background-color: #d4ebff;}#sk-container-id-1 input.sk-hidden--visually {border: 0;clip: rect(1px 1px 1px 1px);clip: rect(1px, 1px, 1px, 1px);height: 1px;margin: -1px;overflow: hidden;padding: 0;position: absolute;width: 1px;}#sk-container-id-1 div.sk-estimator {font-family: monospace;background-color: #f0f8ff;border: 1px dotted black;border-radius: 0.25em;box-sizing: border-box;margin-bottom: 0.5em;}#sk-container-id-1 div.sk-estimator:hover {background-color: #d4ebff;}#sk-container-id-1 div.sk-parallel-item::after {content: \"\";width: 100%;border-bottom: 1px solid gray;flex-grow: 1;}#sk-container-id-1 div.sk-label:hover label.sk-toggleable__label {background-color: #d4ebff;}#sk-container-id-1 div.sk-serial::before {content: \"\";position: absolute;border-left: 1px solid gray;box-sizing: border-box;top: 0;bottom: 0;left: 50%;z-index: 0;}#sk-container-id-1 div.sk-serial {display: flex;flex-direction: column;align-items: center;background-color: white;padding-right: 0.2em;padding-left: 0.2em;position: relative;}#sk-container-id-1 div.sk-item {position: relative;z-index: 1;}#sk-container-id-1 div.sk-parallel {display: flex;align-items: stretch;justify-content: center;background-color: white;position: relative;}#sk-container-id-1 div.sk-item::before, #sk-container-id-1 div.sk-parallel-item::before {content: \"\";position: absolute;border-left: 1px solid gray;box-sizing: border-box;top: 0;bottom: 0;left: 50%;z-index: -1;}#sk-container-id-1 div.sk-parallel-item {display: flex;flex-direction: column;z-index: 1;position: relative;background-color: white;}#sk-container-id-1 div.sk-parallel-item:first-child::after {align-self: flex-end;width: 50%;}#sk-container-id-1 div.sk-parallel-item:last-child::after {align-self: flex-start;width: 50%;}#sk-container-id-1 div.sk-parallel-item:only-child::after {width: 0;}#sk-container-id-1 div.sk-dashed-wrapped {border: 1px dashed gray;margin: 0 0.4em 0.5em 0.4em;box-sizing: border-box;padding-bottom: 0.4em;background-color: white;}#sk-container-id-1 div.sk-label label {font-family: monospace;font-weight: bold;display: inline-block;line-height: 1.2em;}#sk-container-id-1 div.sk-label-container {text-align: center;}#sk-container-id-1 div.sk-container {/* jupyter's `normalize.less` sets `[hidden] { display: none; }` but bootstrap.min.css set `[hidden] { display: none !important; }` so we also need the `!important` here to be able to override the default hidden behavior on the sphinx rendered scikit-learn.org. See: https://github.com/scikit-learn/scikit-learn/issues/21755 */display: inline-block !important;position: relative;}#sk-container-id-1 div.sk-text-repr-fallback {display: none;}</style><div id=\"sk-container-id-1\" class=\"sk-top-container\"><div class=\"sk-text-repr-fallback\"><pre>GridSearchCV(cv=StratifiedKFold(n_splits=5, random_state=42, shuffle=True),\n",
              "             estimator=LogisticRegression(),\n",
              "             param_grid={&#x27;C&#x27;: [0.1, 0.5, 1, 10, 15, 20],\n",
              "                         &#x27;class_weight&#x27;: [{0: 0.0, 1: 1.0},\n",
              "                                          {0: 0.0019839679358717435,\n",
              "                                           1: 0.9980160320641283},\n",
              "                                          {0: 0.003967935871743487,\n",
              "                                           1: 0.9960320641282565},\n",
              "                                          {0: 0.0059519038076152305,\n",
              "                                           1: 0.9940480961923848},\n",
              "                                          {0: 0.007935871743486974,\n",
              "                                           1: 0.99206412825...\n",
              "                                           1: 0.9543687374749499},\n",
              "                                          {0: 0.047615230460921844,\n",
              "                                           1: 0.9523847695390781},\n",
              "                                          {0: 0.04959919839679359,\n",
              "                                           1: 0.9504008016032064},\n",
              "                                          {0: 0.05158316633266533,\n",
              "                                           1: 0.9484168336673346},\n",
              "                                          {0: 0.05356713426853708,\n",
              "                                           1: 0.9464328657314629},\n",
              "                                          {0: 0.055551102204408814,\n",
              "                                           1: 0.9444488977955912},\n",
              "                                          {0: 0.05753507014028056,\n",
              "                                           1: 0.9424649298597194}, ...],\n",
              "                         &#x27;penalty&#x27;: [&#x27;l1&#x27;, &#x27;l2&#x27;]},\n",
              "             return_train_score=True, scoring=&#x27;f1&#x27;)</pre><b>In a Jupyter environment, please rerun this cell to show the HTML representation or trust the notebook. <br />On GitHub, the HTML representation is unable to render, please try loading this page with nbviewer.org.</b></div><div class=\"sk-container\" hidden><div class=\"sk-item sk-dashed-wrapped\"><div class=\"sk-label-container\"><div class=\"sk-label sk-toggleable\"><input class=\"sk-toggleable__control sk-hidden--visually\" id=\"sk-estimator-id-1\" type=\"checkbox\" ><label for=\"sk-estimator-id-1\" class=\"sk-toggleable__label sk-toggleable__label-arrow\">GridSearchCV</label><div class=\"sk-toggleable__content\"><pre>GridSearchCV(cv=StratifiedKFold(n_splits=5, random_state=42, shuffle=True),\n",
              "             estimator=LogisticRegression(),\n",
              "             param_grid={&#x27;C&#x27;: [0.1, 0.5, 1, 10, 15, 20],\n",
              "                         &#x27;class_weight&#x27;: [{0: 0.0, 1: 1.0},\n",
              "                                          {0: 0.0019839679358717435,\n",
              "                                           1: 0.9980160320641283},\n",
              "                                          {0: 0.003967935871743487,\n",
              "                                           1: 0.9960320641282565},\n",
              "                                          {0: 0.0059519038076152305,\n",
              "                                           1: 0.9940480961923848},\n",
              "                                          {0: 0.007935871743486974,\n",
              "                                           1: 0.99206412825...\n",
              "                                           1: 0.9543687374749499},\n",
              "                                          {0: 0.047615230460921844,\n",
              "                                           1: 0.9523847695390781},\n",
              "                                          {0: 0.04959919839679359,\n",
              "                                           1: 0.9504008016032064},\n",
              "                                          {0: 0.05158316633266533,\n",
              "                                           1: 0.9484168336673346},\n",
              "                                          {0: 0.05356713426853708,\n",
              "                                           1: 0.9464328657314629},\n",
              "                                          {0: 0.055551102204408814,\n",
              "                                           1: 0.9444488977955912},\n",
              "                                          {0: 0.05753507014028056,\n",
              "                                           1: 0.9424649298597194}, ...],\n",
              "                         &#x27;penalty&#x27;: [&#x27;l1&#x27;, &#x27;l2&#x27;]},\n",
              "             return_train_score=True, scoring=&#x27;f1&#x27;)</pre></div></div></div><div class=\"sk-parallel\"><div class=\"sk-parallel-item\"><div class=\"sk-item\"><div class=\"sk-label-container\"><div class=\"sk-label sk-toggleable\"><input class=\"sk-toggleable__control sk-hidden--visually\" id=\"sk-estimator-id-2\" type=\"checkbox\" ><label for=\"sk-estimator-id-2\" class=\"sk-toggleable__label sk-toggleable__label-arrow\">estimator: LogisticRegression</label><div class=\"sk-toggleable__content\"><pre>LogisticRegression()</pre></div></div></div><div class=\"sk-serial\"><div class=\"sk-item\"><div class=\"sk-estimator sk-toggleable\"><input class=\"sk-toggleable__control sk-hidden--visually\" id=\"sk-estimator-id-3\" type=\"checkbox\" ><label for=\"sk-estimator-id-3\" class=\"sk-toggleable__label sk-toggleable__label-arrow\">LogisticRegression</label><div class=\"sk-toggleable__content\"><pre>LogisticRegression()</pre></div></div></div></div></div></div></div></div></div></div>"
            ]
          },
          "metadata": {},
          "execution_count": 35
        }
      ]
    },
    {
      "cell_type": "code",
      "source": [
        "print(\"Best F1 score: \", model.best_score_)\n",
        "print(\"Best hyperparameters: \", model.best_params_)"
      ],
      "metadata": {
        "colab": {
          "base_uri": "https://localhost:8080/"
        },
        "id": "59SByJV5ubpQ",
        "outputId": "5d6d0b6a-aba6-4841-eb02-1f3324284a51"
      },
      "execution_count": null,
      "outputs": [
        {
          "output_type": "stream",
          "name": "stdout",
          "text": [
            "Best F1 score:  0.42021588645818636\n",
            "Best hyperparameters:  {'C': 10, 'class_weight': {0: 0.2003807615230461, 1: 0.7996192384769539}, 'penalty': 'l2'}\n"
          ]
        }
      ]
    },
    {
      "cell_type": "code",
      "source": [
        "lr2 = LogisticRegression(class_weight={0: 0.20, 1: 0.80}, C=10, penalty='l2')\n",
        "lr2.fit(X_train, y_train)"
      ],
      "metadata": {
        "colab": {
          "base_uri": "https://localhost:8080/",
          "height": 74
        },
        "id": "kECT-UBZN3og",
        "outputId": "d4b19086-77ed-4b13-ce6c-9fed0beda844"
      },
      "execution_count": null,
      "outputs": [
        {
          "output_type": "execute_result",
          "data": {
            "text/plain": [
              "LogisticRegression(C=10, class_weight={0: 0.2, 1: 0.8})"
            ],
            "text/html": [
              "<style>#sk-container-id-2 {color: black;background-color: white;}#sk-container-id-2 pre{padding: 0;}#sk-container-id-2 div.sk-toggleable {background-color: white;}#sk-container-id-2 label.sk-toggleable__label {cursor: pointer;display: block;width: 100%;margin-bottom: 0;padding: 0.3em;box-sizing: border-box;text-align: center;}#sk-container-id-2 label.sk-toggleable__label-arrow:before {content: \"▸\";float: left;margin-right: 0.25em;color: #696969;}#sk-container-id-2 label.sk-toggleable__label-arrow:hover:before {color: black;}#sk-container-id-2 div.sk-estimator:hover label.sk-toggleable__label-arrow:before {color: black;}#sk-container-id-2 div.sk-toggleable__content {max-height: 0;max-width: 0;overflow: hidden;text-align: left;background-color: #f0f8ff;}#sk-container-id-2 div.sk-toggleable__content pre {margin: 0.2em;color: black;border-radius: 0.25em;background-color: #f0f8ff;}#sk-container-id-2 input.sk-toggleable__control:checked~div.sk-toggleable__content {max-height: 200px;max-width: 100%;overflow: auto;}#sk-container-id-2 input.sk-toggleable__control:checked~label.sk-toggleable__label-arrow:before {content: \"▾\";}#sk-container-id-2 div.sk-estimator input.sk-toggleable__control:checked~label.sk-toggleable__label {background-color: #d4ebff;}#sk-container-id-2 div.sk-label input.sk-toggleable__control:checked~label.sk-toggleable__label {background-color: #d4ebff;}#sk-container-id-2 input.sk-hidden--visually {border: 0;clip: rect(1px 1px 1px 1px);clip: rect(1px, 1px, 1px, 1px);height: 1px;margin: -1px;overflow: hidden;padding: 0;position: absolute;width: 1px;}#sk-container-id-2 div.sk-estimator {font-family: monospace;background-color: #f0f8ff;border: 1px dotted black;border-radius: 0.25em;box-sizing: border-box;margin-bottom: 0.5em;}#sk-container-id-2 div.sk-estimator:hover {background-color: #d4ebff;}#sk-container-id-2 div.sk-parallel-item::after {content: \"\";width: 100%;border-bottom: 1px solid gray;flex-grow: 1;}#sk-container-id-2 div.sk-label:hover label.sk-toggleable__label {background-color: #d4ebff;}#sk-container-id-2 div.sk-serial::before {content: \"\";position: absolute;border-left: 1px solid gray;box-sizing: border-box;top: 0;bottom: 0;left: 50%;z-index: 0;}#sk-container-id-2 div.sk-serial {display: flex;flex-direction: column;align-items: center;background-color: white;padding-right: 0.2em;padding-left: 0.2em;position: relative;}#sk-container-id-2 div.sk-item {position: relative;z-index: 1;}#sk-container-id-2 div.sk-parallel {display: flex;align-items: stretch;justify-content: center;background-color: white;position: relative;}#sk-container-id-2 div.sk-item::before, #sk-container-id-2 div.sk-parallel-item::before {content: \"\";position: absolute;border-left: 1px solid gray;box-sizing: border-box;top: 0;bottom: 0;left: 50%;z-index: -1;}#sk-container-id-2 div.sk-parallel-item {display: flex;flex-direction: column;z-index: 1;position: relative;background-color: white;}#sk-container-id-2 div.sk-parallel-item:first-child::after {align-self: flex-end;width: 50%;}#sk-container-id-2 div.sk-parallel-item:last-child::after {align-self: flex-start;width: 50%;}#sk-container-id-2 div.sk-parallel-item:only-child::after {width: 0;}#sk-container-id-2 div.sk-dashed-wrapped {border: 1px dashed gray;margin: 0 0.4em 0.5em 0.4em;box-sizing: border-box;padding-bottom: 0.4em;background-color: white;}#sk-container-id-2 div.sk-label label {font-family: monospace;font-weight: bold;display: inline-block;line-height: 1.2em;}#sk-container-id-2 div.sk-label-container {text-align: center;}#sk-container-id-2 div.sk-container {/* jupyter's `normalize.less` sets `[hidden] { display: none; }` but bootstrap.min.css set `[hidden] { display: none !important; }` so we also need the `!important` here to be able to override the default hidden behavior on the sphinx rendered scikit-learn.org. See: https://github.com/scikit-learn/scikit-learn/issues/21755 */display: inline-block !important;position: relative;}#sk-container-id-2 div.sk-text-repr-fallback {display: none;}</style><div id=\"sk-container-id-2\" class=\"sk-top-container\"><div class=\"sk-text-repr-fallback\"><pre>LogisticRegression(C=10, class_weight={0: 0.2, 1: 0.8})</pre><b>In a Jupyter environment, please rerun this cell to show the HTML representation or trust the notebook. <br />On GitHub, the HTML representation is unable to render, please try loading this page with nbviewer.org.</b></div><div class=\"sk-container\" hidden><div class=\"sk-item\"><div class=\"sk-estimator sk-toggleable\"><input class=\"sk-toggleable__control sk-hidden--visually\" id=\"sk-estimator-id-4\" type=\"checkbox\" checked><label for=\"sk-estimator-id-4\" class=\"sk-toggleable__label sk-toggleable__label-arrow\">LogisticRegression</label><div class=\"sk-toggleable__content\"><pre>LogisticRegression(C=10, class_weight={0: 0.2, 1: 0.8})</pre></div></div></div></div></div>"
            ]
          },
          "metadata": {},
          "execution_count": 37
        }
      ]
    },
    {
      "cell_type": "code",
      "source": [
        "y_pred_prob_test = lr2.predict_proba(X_test)[:, 1]\n",
        "y_pred_test = lr2.predict(X_test)\n",
        "cm = confusion_matrix(y_test, y_pred_test)\n",
        "print(\"confusion Matrix is :nn\",cm)\n",
        "print(\"n\")\n",
        "print(\"ROC-AUC score  test dataset:  t\", roc_auc_score(y_test,y_pred_prob_test))\n",
        "print(\"precision score  test dataset:  t\", precision_score(y_test,y_pred_test))\n",
        "print(\"Recall score  test dataset:  t\", recall_score(y_test,y_pred_test))\n",
        "print(\"f1 score  test dataset :  t\", f1_score(y_test,y_pred_test))"
      ],
      "metadata": {
        "colab": {
          "base_uri": "https://localhost:8080/"
        },
        "id": "tG8y8wANPPVd",
        "outputId": "a28cbab0-625e-4d71-d8bc-bc4710459706"
      },
      "execution_count": null,
      "outputs": [
        {
          "output_type": "stream",
          "name": "stdout",
          "text": [
            "confusion Matrix is :nn [[311 872]\n",
            " [ 82 349]]\n",
            "n\n",
            "ROC-AUC score  test dataset:  t 0.5665861891098372\n",
            "precision score  test dataset:  t 0.2858312858312858\n",
            "Recall score  test dataset:  t 0.8097447795823666\n",
            "f1 score  test dataset :  t 0.42251815980629537\n"
          ]
        }
      ]
    },
    {
      "cell_type": "code",
      "source": [
        "class_names=[0,1] # name  of classes\n",
        "fig, ax = plt.subplots()\n",
        "tick_marks = np.arange(len(class_names))\n",
        "plt.xticks(tick_marks, class_names)\n",
        "plt.yticks(tick_marks, class_names)\n",
        "# create heatmap\n",
        "sns.heatmap(pd.DataFrame(cm), annot=True, cmap=\"YlGnBu\" ,fmt='g')\n",
        "ax.xaxis.set_label_position(\"top\")\n",
        "plt.tight_layout()\n",
        "plt.title('Confusion matrix', y=1.1)\n",
        "plt.ylabel('Actual label')\n",
        "plt.xlabel('Predicted label')"
      ],
      "metadata": {
        "colab": {
          "base_uri": "https://localhost:8080/",
          "height": 561
        },
        "id": "GK71iNUHQhqy",
        "outputId": "cba9e8c8-89bb-4a80-9269-977e2cac72ab"
      },
      "execution_count": null,
      "outputs": [
        {
          "output_type": "execute_result",
          "data": {
            "text/plain": [
              "Text(0.5, 427.9555555555555, 'Predicted label')"
            ]
          },
          "metadata": {},
          "execution_count": 39
        },
        {
          "output_type": "display_data",
          "data": {
            "text/plain": [
              "<Figure size 640x480 with 2 Axes>"
            ],
            "image/png": "[encoded data removed]"
          },
          "metadata": {}
        }
      ]
    },
    {
      "cell_type": "code",
      "source": [
        "target_names = ['buen pagador', 'mal pagador']\n",
        "print(classification_report(y_test, y_pred_test, target_names=target_names))"
      ],
      "metadata": {
        "colab": {
          "base_uri": "https://localhost:8080/"
        },
        "id": "-UXq_T0cRgQR",
        "outputId": "c8b208db-5116-4dc3-f7fe-d0ebfaddaa13"
      },
      "execution_count": null,
      "outputs": [
        {
          "output_type": "stream",
          "name": "stdout",
          "text": [
            "              precision    recall  f1-score   support\n",
            "\n",
            "buen pagador       0.79      0.26      0.39      1183\n",
            " mal pagador       0.29      0.81      0.42       431\n",
            "\n",
            "    accuracy                           0.41      1614\n",
            "   macro avg       0.54      0.54      0.41      1614\n",
            "weighted avg       0.66      0.41      0.40      1614\n",
            "\n"
          ]
        }
      ]
    },
    {
      "cell_type": "markdown",
      "source": [
        "El modelo tiene una tasa de clasificación con precisión del 41%. Se desempeña mejor en la identificación de los malos pagadores ya que correctamente identificó el 81% de los malos pagadores mientras que en los buenos pagadores solo fue un 26%"
      ],
      "metadata": {
        "id": "Qv43zATXxYP3"
      }
    },
    {
      "cell_type": "code",
      "source": [
        "y_pred_proba = lr2.predict_proba(X_test)[::,1]\n",
        "fpr, tpr, thresholds = metrics.roc_curve(y_test,  y_pred_proba)\n",
        "auc = metrics.roc_auc_score(y_test, y_pred_proba)\n",
        "plt.plot(fpr,tpr,label=\"data 1, auc=\"+str(auc))\n",
        "plt.legend(loc=4)\n",
        "plt.show()"
      ],
      "metadata": {
        "colab": {
          "base_uri": "https://localhost:8080/",
          "height": 434
        },
        "id": "r_iib6RvSjlE",
        "outputId": "a7646936-85d4-4fad-8e10-41a0bb902b59"
      },
      "execution_count": null,
      "outputs": [
        {
          "output_type": "display_data",
          "data": {
            "text/plain": [
              "<Figure size 640x480 with 1 Axes>"
            ],
            "image/png": "[encoded data removed]"
          },
          "metadata": {}
        }
      ]
    },
    {
      "cell_type": "markdown",
      "source": [
        "El puntaje AUC es una métrica única que representa el rendimiento general de un modelo de clasificación binaria basada en el área bajo su curva ROC.La gráfica ROC ilustra el equilibrio entre la tasa de verdaderos positivos y la tasa de falsos positivos en varios umbrales de clasificación. Cuando 0,5 < AUC < 1 existe una alta probabilidad de que el clasificador pueda distinguir los valores de clase positivos de los negativos. Esto es así porque el clasificador es capaz de detectar más números de Verdaderos positivos y Verdaderos negativos que de Falsos negativos y Falsos positivos. En este caso el Score dado de 0.5666 indica que es ligeramente mejor que el azar, sin embargo, sugiere que el rendimiento predictivo del modelo es modesto."
      ],
      "metadata": {
        "id": "OJ51-QkPmHHC"
      }
    },
    {
      "cell_type": "code",
      "source": [
        "gini = 2*auc-1\n",
        "ks_statistic = max(tpr-fpr)\n",
        "ks_threshold = thresholds[(tpr-fpr).argmax()]\n",
        "print(f'KS statistic: ', ks_statistic)\n",
        "print('Gini coefficient: ', gini)"
      ],
      "metadata": {
        "colab": {
          "base_uri": "https://localhost:8080/"
        },
        "id": "6nY5m3pQVIu2",
        "outputId": "93381f6f-3d89-4971-f575-0a8bd7ab270f"
      },
      "execution_count": null,
      "outputs": [
        {
          "output_type": "stream",
          "name": "stdout",
          "text": [
            "KS statistic:  0.11297911440692093\n",
            "Gini coefficient:  0.13317237821967431\n"
          ]
        }
      ]
    },
    {
      "cell_type": "markdown",
      "source": [
        "El Kolmogorov-Smirnov (KS) score es una forma de comparar la suma acumulada de las clases positivas y negativas. Mide la diferencia máxima entre los dos en el rango de probabilidades predichas. Una puntuación de 0.11298 sugiere que existe una diferencia moderada entre las distribuciones acumuladas de las clases positivas y negativas en las predicciones del modelo.\n",
        "\n",
        "Mientras que el coeficiente de Gini evalúa exhaustivamente el poder discriminatorio de un modelo cuantificando la desigualdad en las probabilidades de incumplimiento previstas.\n",
        "\n",
        "Un coeficiente de 0.1332 indica que el poder predictivo del modelo es limitado, con un nivel relativamente bajo de discriminación entre resultados positivos y negativos."
      ],
      "metadata": {
        "id": "hKQmh4LkqEzv"
      }
    },
    {
      "cell_type": "code",
      "source": [
        "plt.figure(figsize=(10,6))\n",
        "plt.plot(thresholds, tpr,label='TPR (Sensitivity)', color='blue')\n",
        "plt.plot(thresholds, fpr, label='FPR (1-Specificity)', color='red')\n",
        "plt.plot(thresholds, tpr - fpr, label='TPR - FPR (KS Statistic)', color='green')\n",
        "plt.scatter([ks_threshold], [ks_statistic], color='black')\n",
        "plt.title('Kolgomorov-Smirnov Statistic Plot')\n",
        "plt.xlabel('Thresholds')\n",
        "plt.ylabel('Rate')\n",
        "plt.legend()\n",
        "plt.show()"
      ],
      "metadata": {
        "colab": {
          "base_uri": "https://localhost:8080/",
          "height": 573
        },
        "id": "njQ8VAG3c00b",
        "outputId": "33ca71bc-0f05-4cbd-f69d-081da1b86cbe"
      },
      "execution_count": null,
      "outputs": [
        {
          "output_type": "display_data",
          "data": {
            "text/plain": [
              "<Figure size 1000x600 with 1 Axes>"
            ],
            "image/png": "[encoded data removed]"
          },
          "metadata": {}
        }
      ]
    },
    {
      "cell_type": "code",
      "source": [
        "df_results = pd.DataFrame({'Actual': y_test, 'Score': y_pred_proba})\n",
        "df_results = df_results.sort_values(by='Score', ascending=False)\n",
        "df_results['Grupo'] = pd.qcut(df_results['Score'], 10, labels=False)\n",
        "total = len(df_results) / df_results.groupby('Grupo').size()\n",
        "min_score = df_results.groupby('Grupo')['Score'].min()\n",
        "max_score = df_results.groupby('Grupo')['Score'].max()\n",
        "dif = max_score - min_score\n",
        "df_results['Incum'] = df_results.apply(lambda row: 1 if row['Actual'] == 1 else 0, axis=1)\n",
        "incum = df_results.groupby('Grupo')['Incum'].sum()\n",
        "tasa_incum = (incum / df_results.groupby('Grupo')['Incum'].count()) * 100\n",
        "tasa_incum_acumulado = tasa_incum.cumsum()\n",
        "non_incum = df_results.groupby('Grupo').size() - incum\n",
        "odds = non_incum / incum\n",
        "prom_score = df_results.groupby('Grupo')['Score'].mean()\n",
        "inverse_prom_score = 1 - prom_score\n",
        "gains_table = pd.DataFrame({\n",
        "    'Min_Score': min_score.values,\n",
        "    'Max_Score': max_score.values,\n",
        "    'Dif': dif.values,\n",
        "    'total': total,\n",
        "    'por_total': total * 100,\n",
        "    'Incum': incum.values,\n",
        "    'Tasa_incum': tasa_incum.values,\n",
        "    'Tasa_incum_acumulado': tasa_incum_acumulado.values,\n",
        "    'Odds': odds.values,\n",
        "    'Prom_Score': prom_score.values,\n",
        "    '1-Prom_Score': inverse_prom_score.values\n",
        "})\n",
        "\n",
        "print(gains_table)"
      ],
      "metadata": {
        "id": "9IE8n0_f7ANZ",
        "colab": {
          "base_uri": "https://localhost:8080/"
        },
        "outputId": "1af6d0a5-c606-40cc-a710-f919ed214d9d"
      },
      "execution_count": null,
      "outputs": [
        {
          "output_type": "stream",
          "name": "stdout",
          "text": [
            "       Min_Score  Max_Score       Dif      total    por_total  Incum  \\\n",
            "Grupo                                                                  \n",
            "0       0.015301   0.449175  0.433874   9.962963   996.296296     28   \n",
            "1       0.449400   0.485763  0.036363  10.024845  1002.484472     38   \n",
            "2       0.485840   0.514322  0.028482  10.024845  1002.484472     43   \n",
            "3       0.514348   0.538521  0.024173   9.962963   996.296296     41   \n",
            "4       0.538584   0.563988  0.025404  10.024845  1002.484472     40   \n",
            "5       0.564028   0.587694  0.023666  10.024845  1002.484472     39   \n",
            "6       0.587738   0.611160  0.023422   9.962963   996.296296     38   \n",
            "7       0.611189   0.638118  0.026929  10.024845  1002.484472     53   \n",
            "8       0.638139   0.672862  0.034723  10.024845  1002.484472     54   \n",
            "9       0.672906   0.764733  0.091826   9.962963   996.296296     57   \n",
            "\n",
            "       Tasa_incum  Tasa_incum_acumulado      Odds  Prom_Score  1-Prom_Score  \n",
            "Grupo                                                                        \n",
            "0       17.283951             17.283951  4.785714    0.388239      0.611761  \n",
            "1       23.602484             40.886435  3.236842    0.468100      0.531900  \n",
            "2       26.708075             67.594510  2.744186    0.500678      0.499322  \n",
            "3       25.308642             92.903152  2.951220    0.526384      0.473616  \n",
            "4       24.844720            117.747872  3.025000    0.551632      0.448368  \n",
            "5       24.223602            141.971475  3.128205    0.575829      0.424171  \n",
            "6       23.456790            165.428265  3.263158    0.598995      0.401005  \n",
            "7       32.919255            198.347519  2.037736    0.623942      0.376058  \n",
            "8       33.540373            231.887892  1.981481    0.654461      0.345539  \n",
            "9       35.185185            267.073077  1.842105    0.701934      0.298066  \n"
          ]
        }
      ]
    },
    {
      "cell_type": "markdown",
      "source": [
        "**tasa_incum_acumulado:** Indica cómo aumenta la tasa de incumplimiento acumulada a medida que te desplazas desde el grupo con las probabilidades predichas más altas (decil superior) hasta el grupo con las probabilidades predichas más bajas (decil inferior), un valor más alto en esta columna indica que una proporción mayor de incumplimientos ocurren más temprano en el orden de las probabilidades predichas.\n",
        "\n",
        "**Odds:** Un valor de odds más alto indica que hay más ocurrencias de ser buen pagador en relación con las ocurrencias de mal pagador dentro del grupo\n",
        "\n",
        "**Prom_score:** Proporciona una medida promedio de la probabilidad de ser mal pagador para las observaciones dentro de cada grupo."
      ],
      "metadata": {
        "id": "qXVpFSyStsdx"
      }
    },
    {
      "cell_type": "code",
      "source": [
        "threshold_score = 0.4\n",
        "cutting_point = gains_table.iloc[(gains_table['Prom_Score'] - threshold_score).abs().argsort()[:1]]\n",
        "print(\"El punto de corte para aprobar o rechazar a un cliente en base al score: \", cutting_point['Prom_Score'].values[0])"
      ],
      "metadata": {
        "colab": {
          "base_uri": "https://localhost:8080/"
        },
        "id": "7QHZ-laBwDP_",
        "outputId": "608c72e7-9328-41d0-d9f6-8a3967f23e4d"
      },
      "execution_count": null,
      "outputs": [
        {
          "output_type": "stream",
          "name": "stdout",
          "text": [
            "El punto de corte para aprobar o rechazar a un cliente en base al score:  0.38823929336773494\n"
          ]
        }
      ]
    }
  ]
}